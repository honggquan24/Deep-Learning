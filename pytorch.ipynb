{
 "cells": [
  {
   "cell_type": "markdown",
   "metadata": {},
   "source": [
    "# 1. Tensor basic"
   ]
  },
  {
   "cell_type": "code",
   "execution_count": 1,
   "metadata": {},
   "outputs": [],
   "source": [
    "import torch "
   ]
  },
  {
   "cell_type": "markdown",
   "metadata": {},
   "source": [
    "## Operation"
   ]
  },
  {
   "cell_type": "code",
   "execution_count": null,
   "metadata": {},
   "outputs": [],
   "source": [
    "x = torch.empty(1)\n",
    "x"
   ]
  },
  {
   "cell_type": "code",
   "execution_count": null,
   "metadata": {},
   "outputs": [],
   "source": [
    "x = 2 * torch.ones(1, 10)\n",
    "x"
   ]
  },
  {
   "cell_type": "code",
   "execution_count": null,
   "metadata": {},
   "outputs": [],
   "source": [
    "y = torch.ones_like(x)\n",
    "y"
   ]
  },
  {
   "cell_type": "code",
   "execution_count": null,
   "metadata": {},
   "outputs": [],
   "source": [
    "y.add(x)\n",
    "print(y)"
   ]
  },
  {
   "cell_type": "code",
   "execution_count": null,
   "metadata": {},
   "outputs": [],
   "source": [
    "y.add_(x)\n",
    "print(y)"
   ]
  },
  {
   "cell_type": "code",
   "execution_count": null,
   "metadata": {},
   "outputs": [],
   "source": [
    "y.view(2, 5)"
   ]
  },
  {
   "cell_type": "markdown",
   "metadata": {},
   "source": [
    "## Numpy and pytorch"
   ]
  },
  {
   "cell_type": "code",
   "execution_count": 8,
   "metadata": {},
   "outputs": [],
   "source": [
    "import torch\n",
    "import numpy as np"
   ]
  },
  {
   "cell_type": "code",
   "execution_count": null,
   "metadata": {},
   "outputs": [],
   "source": [
    "a = torch.ones(5)\n",
    "print(type(a))\n",
    "\n",
    "b = a.numpy()\n",
    "print(type(b))"
   ]
  },
  {
   "cell_type": "code",
   "execution_count": null,
   "metadata": {},
   "outputs": [],
   "source": [
    "# Memory address of the tensor data: .data_ptr()\n",
    "# Memory address of the numpy data: .ctypes.data\n",
    "\n",
    "a.data_ptr() == b.ctypes.data"
   ]
  },
  {
   "cell_type": "markdown",
   "metadata": {},
   "source": [
    "## Pytorch / Numpy device"
   ]
  },
  {
   "cell_type": "code",
   "execution_count": 24,
   "metadata": {},
   "outputs": [],
   "source": [
    "device = torch.device('cpu')"
   ]
  },
  {
   "cell_type": "code",
   "execution_count": null,
   "metadata": {},
   "outputs": [],
   "source": [
    "a = torch.tensor([2])\n",
    "a.data_ptr()"
   ]
  },
  {
   "cell_type": "code",
   "execution_count": 26,
   "metadata": {},
   "outputs": [],
   "source": [
    "device = torch.device('cuda')"
   ]
  },
  {
   "cell_type": "code",
   "execution_count": null,
   "metadata": {},
   "outputs": [],
   "source": [
    "a.to(device)\n",
    "a.data_ptr()"
   ]
  },
  {
   "cell_type": "code",
   "execution_count": null,
   "metadata": {},
   "outputs": [],
   "source": [
    "if torch.cuda.is_available():\n",
    "    device = torch.device('cuda')\n",
    "    print(True)\n",
    "else:\n",
    "    device = torch.device('cpu')\n",
    "    print(False)"
   ]
  },
  {
   "cell_type": "code",
   "execution_count": null,
   "metadata": {},
   "outputs": [],
   "source": [
    "a = torch.ones(5, device= device)\n",
    "a.to('cpu')\n",
    "type(a)"
   ]
  },
  {
   "cell_type": "code",
   "execution_count": null,
   "metadata": {},
   "outputs": [],
   "source": [
    "b = a.numpy()\n",
    "type(b)"
   ]
  },
  {
   "cell_type": "markdown",
   "metadata": {},
   "source": [
    "# 2. Gradient auto "
   ]
  },
  {
   "cell_type": "markdown",
   "metadata": {},
   "source": [
    "## Gradient calculation"
   ]
  },
  {
   "cell_type": "code",
   "execution_count": null,
   "metadata": {},
   "outputs": [],
   "source": [
    "x = torch.ones(3, requires_grad= True)\n",
    "print(x)"
   ]
  },
  {
   "cell_type": "code",
   "execution_count": 37,
   "metadata": {},
   "outputs": [],
   "source": [
    "y = x + 2"
   ]
  },
  {
   "cell_type": "code",
   "execution_count": null,
   "metadata": {},
   "outputs": [],
   "source": [
    "print(y)"
   ]
  },
  {
   "cell_type": "markdown",
   "metadata": {},
   "source": [
    "### With scalar"
   ]
  },
  {
   "cell_type": "code",
   "execution_count": null,
   "metadata": {},
   "outputs": [],
   "source": [
    "z = y*y*2\n",
    "z = z.mean() \n",
    "print(z)"
   ]
  },
  {
   "cell_type": "code",
   "execution_count": 42,
   "metadata": {},
   "outputs": [],
   "source": [
    "z.backward() # dz/dx"
   ]
  },
  {
   "cell_type": "code",
   "execution_count": null,
   "metadata": {},
   "outputs": [],
   "source": [
    "x.grad"
   ]
  },
  {
   "cell_type": "markdown",
   "metadata": {},
   "source": [
    "### With vector"
   ]
  },
  {
   "cell_type": "code",
   "execution_count": null,
   "metadata": {},
   "outputs": [],
   "source": [
    "x = torch.ones(3, requires_grad= True)\n",
    "y = x + 2\n",
    "\n",
    "f = y*y*2\n",
    "# vector = torch.tensor([0.1, 0.01, 0.001])\n",
    "vector = torch.ones(3)\n",
    "print(f)"
   ]
  },
  {
   "cell_type": "code",
   "execution_count": 50,
   "metadata": {},
   "outputs": [],
   "source": [
    "f.backward(vector) # df/fx"
   ]
  },
  {
   "cell_type": "code",
   "execution_count": null,
   "metadata": {},
   "outputs": [],
   "source": [
    "x.grad"
   ]
  },
  {
   "cell_type": "markdown",
   "metadata": {},
   "source": [
    "## Preventing gradient history"
   ]
  },
  {
   "cell_type": "code",
   "execution_count": 52,
   "metadata": {},
   "outputs": [],
   "source": [
    "x = torch.ones(3, requires_grad= True)\n",
    "\n",
    "# x.requires_grad_(False)\n",
    "# x.detach() # create new tensor "
   ]
  },
  {
   "cell_type": "code",
   "execution_count": null,
   "metadata": {},
   "outputs": [],
   "source": [
    "x"
   ]
  },
  {
   "cell_type": "code",
   "execution_count": null,
   "metadata": {},
   "outputs": [],
   "source": [
    "with torch.no_grad():\n",
    "    y = x + 2\n",
    "    print(y)\n",
    "\n"
   ]
  },
  {
   "cell_type": "markdown",
   "metadata": {},
   "source": [
    "## Note: gradient for tensor which has required grad will be accumulated  "
   ]
  },
  {
   "cell_type": "code",
   "execution_count": null,
   "metadata": {},
   "outputs": [],
   "source": [
    "weights = torch.ones(4, requires_grad= True)\n",
    "for epoch in range(1):\n",
    "    model_output = (weights*3).sum()\n",
    "    model_output.backward()\n",
    "\n",
    "    print(weights.grad)"
   ]
  },
  {
   "cell_type": "code",
   "execution_count": null,
   "metadata": {},
   "outputs": [],
   "source": [
    "weights = torch.ones(4, requires_grad= True)\n",
    "for epoch in range(2):\n",
    "    model_output = (weights*3).sum()\n",
    "    model_output.backward()\n",
    "\n",
    "    print(weights.grad)"
   ]
  },
  {
   "cell_type": "code",
   "execution_count": null,
   "metadata": {},
   "outputs": [],
   "source": [
    "# fix grad to not accumulate\n",
    "\n",
    "weights = torch.ones(4, requires_grad= True)\n",
    "for epoch in range(2):\n",
    "    model_output = (weights*3).sum()\n",
    "    model_output.backward()\n",
    "    \n",
    "    print(weights.grad)\n",
    "    weights.grad.zero_()"
   ]
  },
  {
   "cell_type": "code",
   "execution_count": 193,
   "metadata": {},
   "outputs": [],
   "source": [
    "# with optimizer\n",
    "\n",
    "# optimizer = torch.optim.SGD(params= weights, lr= 0.01)\n",
    "# optimizer.zero_grad()\n",
    "# optimizer.step()"
   ]
  },
  {
   "cell_type": "markdown",
   "metadata": {},
   "source": [
    "# 3. Backpropagation "
   ]
  },
  {
   "cell_type": "markdown",
   "metadata": {},
   "source": [
    "The chain rules:\n",
    "$$\n",
    "y = f(x), \\quad z = g(y)\n",
    "$$\n",
    "$$\n",
    "\\frac{\\partial z}{\\partial x} = \\frac{\\partial z}{\\partial y} \\cdot \\frac{\\partial y}{\\partial x}\n",
    "$$\n",
    "\n",
    "\n"
   ]
  },
  {
   "cell_type": "markdown",
   "metadata": {},
   "source": [
    "Example:\n",
    "$$\n",
    "\\hat{y} = wx\n",
    "$$\n",
    "\n",
    "$$\n",
    "s = \\hat{y} - y\n",
    "$$\n",
    "\n",
    "$$\n",
    "\\text{Loss} = (s)^2\n",
    "$$\n",
    "\n",
    "$$\n",
    "\\frac{\\partial \\text{Loss}}{\\partial w} = \\frac{\\partial \\text{Loss}}{\\partial s} \\cdot \\frac{\\partial s}{\\partial \\hat{y}} \\cdot \\frac{\\partial \\hat{y}}{\\partial w} = 2(wx-y)x\n",
    "$$\n"
   ]
  },
  {
   "cell_type": "code",
   "execution_count": 59,
   "metadata": {},
   "outputs": [],
   "source": [
    "x = torch.tensor(1.0)\n",
    "y = torch.tensor(2.0)\n",
    "w = torch.tensor(1.0, requires_grad= True)"
   ]
  },
  {
   "cell_type": "code",
   "execution_count": null,
   "metadata": {},
   "outputs": [],
   "source": [
    "y_hat = w*x \n",
    "loss = (y_hat - y)**2\n",
    "loss"
   ]
  },
  {
   "cell_type": "code",
   "execution_count": null,
   "metadata": {},
   "outputs": [],
   "source": [
    "loss.backward()\n",
    "w.grad"
   ]
  },
  {
   "cell_type": "markdown",
   "metadata": {},
   "source": [
    "# 4.Gradient Descent with Autograd and Backpropagation"
   ]
  },
  {
   "cell_type": "markdown",
   "metadata": {},
   "source": [
    "##  Numpy"
   ]
  },
  {
   "cell_type": "code",
   "execution_count": 62,
   "metadata": {},
   "outputs": [],
   "source": [
    "import numpy as np"
   ]
  },
  {
   "cell_type": "code",
   "execution_count": null,
   "metadata": {},
   "outputs": [],
   "source": [
    "import numpy as np\n",
    "\n",
    "# Input data\n",
    "X = np.array([1, 2, 3, 4], dtype=np.float64)\n",
    "y = np.array([1, 4, 2, 1], dtype=np.float64)\n",
    "\n",
    "# Initialize weight to zero\n",
    "w = 0.0 \n",
    "\n",
    "# Model prediction\n",
    "def forward(x):\n",
    "    return w * x\n",
    "\n",
    "# Loss function (MSE)\n",
    "def loss(y, y_pred):\n",
    "    return ((y - y_pred)**2).mean()\n",
    "\n",
    "# Gradient calculation\n",
    "# dL/dw = -2/N * sum(x * (y - y_pred))\n",
    "def gradient(x, y, y_pred):\n",
    "    return np.dot(2*x, y-y_pred).mean()\n",
    "\n",
    "print(f'Prediction before training f(5) = {forward(5):.3f}')\n",
    "\n",
    "# Training parameters\n",
    "learning_rate = 0.001\n",
    "n_iter = 10\n",
    "\n",
    "# Training loop\n",
    "for epoch in range(n_iter):\n",
    "    # Predictions\n",
    "    y_pred = forward(X)\n",
    "\n",
    "    # Compute loss\n",
    "    l = loss(y, y_pred)\n",
    "\n",
    "    # Compute gradient\n",
    "    dL_dw = gradient(X, y, y_pred)\n",
    "\n",
    "    # Update weights\n",
    "    w -= learning_rate * dL_dw\n",
    "\n",
    "    # Print progress\n",
    "    if (epoch + 1 % 100) == 0:\n",
    "        print(f'Epoch: {epoch + 1}, w = {w:.3f}, loss = {l:.3f}')\n",
    "\n",
    "# Prediction after training\n",
    "print(f'Prediction after training f(5) = {forward(5):.3f}')"
   ]
  },
  {
   "cell_type": "markdown",
   "metadata": {},
   "source": [
    "## Pytorch"
   ]
  },
  {
   "cell_type": "code",
   "execution_count": 199,
   "metadata": {},
   "outputs": [],
   "source": [
    "import torch "
   ]
  },
  {
   "cell_type": "code",
   "execution_count": null,
   "metadata": {},
   "outputs": [],
   "source": [
    "# f = w * x\n",
    "\n",
    "X = torch.tensor([1, 2, 3, 4], dtype= torch.float64)\n",
    "y = torch.tensor([1, 4, 2, 1], dtype= torch.float64)\n",
    "\n",
    "# W = 0 \n",
    "w = torch.tensor(0, dtype= torch.float64, requires_grad= True)\n",
    "\n",
    "# model prediction\n",
    "def forward(x):\n",
    "    return w * X\n",
    "\n",
    "# loss = MSE\n",
    "def loss(y, y_pred):\n",
    "    return ((y - y_pred)**2).mean()\n",
    "\n",
    "# gradient \n",
    "# MSE = 1/N * (y - y_pred)**2\n",
    "# dJ/dw = 1/N * (y - y_pred)**2 * 2w\n",
    "def gradient(x, y, y_pred):\n",
    "    return torch.dot(2*x, y - y_pred).mean()\n",
    "\n",
    "print(f'Prediction before training f(5)= {forward(5)}') \n",
    "\n",
    "learning_rate = 1e-6\n",
    "n_iter = 1000\n",
    "\n",
    "for epoch in range(n_iter):\n",
    "    # predic\n",
    "    y_pred = forward(X)\n",
    "    l = loss(y, y_pred) \n",
    "\n",
    "    l.backward()\n",
    "    # dL_dw = gradient(X, y, y_pred)\n",
    "\n",
    "    with torch.no_grad():\n",
    "        w -= learning_rate*w.grad\n",
    "\n",
    "    # zero gradient\n",
    "    w.grad.zero_()\n",
    "\n",
    "    if (epoch + 1) % 1000 == 0:\n",
    "        print(f'Epoch: {epoch + 1}, w= {w:.3f}, loss= {l:.3f}')\n",
    "\n",
    "print(f'prediction: {forward(5)}')"
   ]
  },
  {
   "cell_type": "markdown",
   "metadata": {},
   "source": [
    "# 5. Training Pipeline: Model, Loss, and Optimizer"
   ]
  },
  {
   "cell_type": "markdown",
   "metadata": {},
   "source": [
    "1. Design model (input, output, forward pass)\n",
    "2. Construct loss and optimizer\n",
    "3. Training loop:\n",
    "    - Forward pass: compute prediction\n",
    "    - Backward pass: gradients\n",
    "    - Update weights"
   ]
  },
  {
   "cell_type": "code",
   "execution_count": null,
   "metadata": {},
   "outputs": [],
   "source": [
    "import torch \n",
    "import torch.nn as nn\n",
    "\n",
    "# f = w * x\n",
    "\n",
    "X = torch.tensor([1, 2, 3, 4], dtype= torch.float64).reshape(4, 1)\n",
    "y = torch.tensor([1, 4, 2, 1], dtype= torch.float64).reshape(4, 1)\n",
    "X_test = torch.tensor([10], dtype= torch.float64)\n",
    "\n",
    "n_samples, n_feature = X.shape\n",
    "\n",
    "# # W = 0 \n",
    "# w = torch.tensor(0, dtype= torch.float64, requires_grad= True)\n",
    "\n",
    "# # model prediction\n",
    "# def forward(x):\n",
    "#     return w * X\n",
    "model = nn.Linear(in_features= n_feature, out_features= n_feature, dtype= torch.float64) # Cácch siêu đơn giản \n",
    "\n",
    "class LinearRegression(nn.Module):\n",
    "\n",
    "    def __init__(self, input_dim, output_dim):\n",
    "        super().__init__()\n",
    "        \n",
    "        self.linear_stack = nn.Linear(\n",
    "            in_features= input_dim,\n",
    "            out_features= output_dim,\n",
    "            dtype= torch.float64\n",
    "        )\n",
    "\n",
    "    def forward(self, x):\n",
    "        return self.linear_stack(x)\n",
    "    \n",
    "model = LinearRegression(input_dim= n_feature, output_dim= n_feature)\n",
    "\n",
    "learning_rate = 1e-6\n",
    "n_iter = 10\n",
    "\n",
    "# loss = MSE\n",
    "# def loss(y, y_pred):\n",
    "#     return ((y - y_pred)**2).mean()\n",
    "loss = nn.MSELoss()\n",
    "\n",
    "# optimizer = torch.optim.SGD(params= [w], lr= learning_rate)\n",
    "optimizer = torch.optim.SGD(params= model.parameters(), lr= learning_rate)\n",
    "\n",
    "# gradient \n",
    "# MSE = 1/N * (y - y_pred)**2\n",
    "# dJ/dw = 1/N * (y - y_pred)**2 * 2w    \n",
    "# def gradient(x, y, y_pred):\n",
    "#     return torch.dot(2*x, y - y_pred).mean()\n",
    "\n",
    "# Chỗ này cần chỉnh lại vì không còn hàm forward như trước nữa\n",
    "# Chúng ta đã sử dụng model, nên phần này có thể sửa lại để gọi model(X_test) cho dự đoán\n",
    "# print(f'Prediction before training f(5)= {model(torch.tensor([[5.0]], dtype=torch.float64))}') \n",
    "\n",
    "for epoch in range(n_iter):\n",
    "    # predict\n",
    "    # y_pred = forward(X)\n",
    "    y_pred = model(X)\n",
    "\n",
    "    l = loss(y, y_pred) \n",
    "\n",
    "    # dL_dw = gradient(X, y, y_pred)\n",
    "    l.backward()\n",
    "\n",
    "    # with torch.no_grad():\n",
    "    #     w -= learning_rate*w.grad\n",
    "    optimizer.step()\n",
    "\n",
    "    # zero gradient\n",
    "    # w.grad.zero_()\n",
    "    optimizer.zero_grad()\n",
    "\n",
    "    # Điều kiện in kết quả chỉ mỗi 1000 epoch\n",
    "    \n",
    "    [w, b] = model.parameters()\n",
    "    # print(model.parameters())\n",
    "    # print(f'[w, b] = [{w.item()}, {b.item()}]')\n",
    "    print(f'Epoch: {epoch + 1}, w= {w.data}, loss= {l.item():.3f}')\n",
    "\n",
    "# Dự đoán sau khi huấn luyện\n",
    "# print(f'Prediction {model(X_test)}')\n",
    "# print(f'prediction: {forward(5)}')\n"
   ]
  },
  {
   "cell_type": "markdown",
   "metadata": {},
   "source": [
    "### Giải thích từ Chat GPT"
   ]
  },
  {
   "cell_type": "markdown",
   "metadata": {},
   "source": [
    "Giải thích:\n",
    "Sử dụng model(X) vs model.forward(X):\n",
    "\n",
    "Trong PyTorch, bạn luôn nên sử dụng model(X) thay vì gọi trực tiếp model.forward(X). Lý do là PyTorch sử dụng phương thức __call__() bên trong, phương thức này bao gồm nhiều chức năng bổ sung như hooks và đảm bảo hành vi chính xác trong quá trình huấn luyện và đánh giá (chẳng hạn như khi sử dụng dropout hoặc batch normalization).\n",
    "Bằng cách gọi model(X), PyTorch sẽ tự động gọi model.forward(X) bên trong và xử lý các thao tác bổ sung như hooks và các chế độ (train/eval).\n",
    "Gọi trực tiếp forward():\n",
    "\n",
    "Mặc dù có thể dễ dàng gọi trực tiếp forward() bằng cách viết model.forward(X), điều này sẽ bỏ qua các tính năng bổ sung (chẳng hạn như các hooks đã đăng ký hoặc ngữ cảnh torch.no_grad()). Do đó, không khuyến khích việc gọi forward() trực tiếp trừ khi bạn muốn bỏ qua các tính năng bổ sung, điều này hiếm khi cần thiết."
   ]
  },
  {
   "cell_type": "markdown",
   "metadata": {},
   "source": [
    "### Test param \n",
    "https://pytorch.org/docs/stable/generated/torch.nn.parameter.Parameter.html#torch.nn.parameter.Parameter"
   ]
  },
  {
   "cell_type": "code",
   "execution_count": null,
   "metadata": {},
   "outputs": [],
   "source": [
    "w"
   ]
  },
  {
   "cell_type": "code",
   "execution_count": null,
   "metadata": {},
   "outputs": [],
   "source": [
    "w.data"
   ]
  },
  {
   "cell_type": "code",
   "execution_count": null,
   "metadata": {},
   "outputs": [],
   "source": [
    "type(w)"
   ]
  },
  {
   "cell_type": "code",
   "execution_count": null,
   "metadata": {},
   "outputs": [],
   "source": [
    "w[0]\n"
   ]
  },
  {
   "cell_type": "code",
   "execution_count": null,
   "metadata": {},
   "outputs": [],
   "source": [
    "type(w[0])"
   ]
  },
  {
   "cell_type": "code",
   "execution_count": null,
   "metadata": {},
   "outputs": [],
   "source": [
    "w[0][0]\n"
   ]
  },
  {
   "cell_type": "code",
   "execution_count": null,
   "metadata": {},
   "outputs": [],
   "source": [
    "type(w[0][0])"
   ]
  },
  {
   "cell_type": "code",
   "execution_count": null,
   "metadata": {},
   "outputs": [],
   "source": [
    "w[0][0].item()\n"
   ]
  },
  {
   "cell_type": "code",
   "execution_count": null,
   "metadata": {},
   "outputs": [],
   "source": [
    "w.item()"
   ]
  },
  {
   "cell_type": "code",
   "execution_count": null,
   "metadata": {},
   "outputs": [],
   "source": [
    "type(w[0][0].item())"
   ]
  },
  {
   "cell_type": "code",
   "execution_count": null,
   "metadata": {},
   "outputs": [],
   "source": [
    "b"
   ]
  },
  {
   "cell_type": "code",
   "execution_count": null,
   "metadata": {},
   "outputs": [],
   "source": [
    "type(b)"
   ]
  },
  {
   "cell_type": "code",
   "execution_count": null,
   "metadata": {},
   "outputs": [],
   "source": [
    "b[0]"
   ]
  },
  {
   "cell_type": "code",
   "execution_count": null,
   "metadata": {},
   "outputs": [],
   "source": [
    "type(b[0])"
   ]
  },
  {
   "cell_type": "code",
   "execution_count": null,
   "metadata": {},
   "outputs": [],
   "source": [
    "b.item()"
   ]
  },
  {
   "cell_type": "markdown",
   "metadata": {},
   "source": [
    "# 6. Linear Regression"
   ]
  },
  {
   "cell_type": "code",
   "execution_count": 216,
   "metadata": {},
   "outputs": [],
   "source": [
    "import torch\n",
    "import torch.nn as nn\n",
    "import numpy as np \n",
    "from sklearn import datasets\n",
    "import plotly.graph_objects as go"
   ]
  },
  {
   "cell_type": "markdown",
   "metadata": {},
   "source": [
    "## Prepare datasets"
   ]
  },
  {
   "cell_type": "code",
   "execution_count": 217,
   "metadata": {},
   "outputs": [],
   "source": [
    "X_numpy, y_numpy = datasets.make_regression(n_samples= 100, n_features= 1, noise= 20, random_state= 1)"
   ]
  },
  {
   "cell_type": "code",
   "execution_count": 218,
   "metadata": {},
   "outputs": [],
   "source": [
    "X = torch.from_numpy(X_numpy.astype(np.float64))\n",
    "y = torch.from_numpy(y_numpy.astype(np.float64))"
   ]
  },
  {
   "cell_type": "code",
   "execution_count": 219,
   "metadata": {},
   "outputs": [],
   "source": [
    "y = y.view(-1, 1)   "
   ]
  },
  {
   "cell_type": "markdown",
   "metadata": {},
   "source": [
    "Có, y.view() và y.reshape() trong PyTorch đều được sử dụng để thay đổi hình dạng của một tensor, nhưng chúng khác nhau về cách xử lý bộ nhớ.\n",
    "\n",
    "Khác biệt chính:\n",
    "view():\n",
    "\n",
    "view(): tạo ra một tensor mới với hình dạng mong muốn mà không thay đổi dữ liệu. Tuy nhiên, nó yêu cầu tensor gốc phải có bộ nhớ liên tục (tức là các phần tử được lưu trong một khối liên tục).\n",
    "Nếu tensor không liên tục, bạn phải gọi tensor.contiguous() trước, để tạo một bản sao của dữ liệu trong bộ nhớ liên tục trước khi áp dụng view().\n",
    "\n",
    "reshape(): cố gắng trả về một tensor mới với hình dạng mong muốn và có thể trả về một view nếu tensor đã liên tục. Tuy nhiên, nếu tensor không liên tục trong bộ nhớ, reshape() sẽ tự động tạo một bản sao của dữ liệu mà không yêu cầu gọi contiguous().\n",
    "Điều này làm cho reshape() linh hoạt hơn nhưng có thể kém hiệu quả hơn trong một số trường hợp vì có thể liên quan đến việc sao chép dữ liệu."
   ]
  },
  {
   "cell_type": "markdown",
   "metadata": {},
   "source": [
    "## Design "
   ]
  },
  {
   "cell_type": "code",
   "execution_count": 220,
   "metadata": {},
   "outputs": [],
   "source": [
    "n_samples, n_feature = X.shape"
   ]
  },
  {
   "cell_type": "code",
   "execution_count": 221,
   "metadata": {},
   "outputs": [],
   "source": [
    "# model \n",
    "input_size = n_feature\n",
    "model = nn.Linear(in_features= input_size, out_features= 1, dtype= torch.float64)"
   ]
  },
  {
   "cell_type": "markdown",
   "metadata": {},
   "source": [
    "##  Loss_fn and optimizer"
   ]
  },
  {
   "cell_type": "code",
   "execution_count": 222,
   "metadata": {},
   "outputs": [],
   "source": [
    "criterion_fn = nn.MSELoss()\n",
    "optimizer = torch.optim.SGD(model.parameters(), lr= 0.3)"
   ]
  },
  {
   "cell_type": "markdown",
   "metadata": {},
   "source": [
    "## Training loop\n"
   ]
  },
  {
   "cell_type": "code",
   "execution_count": null,
   "metadata": {},
   "outputs": [],
   "source": [
    "epochs = 1000\n",
    "for epoch in range(epochs):\n",
    "    y_pred = model(X)\n",
    "\n",
    "    loss = criterion_fn(y_pred, y)\n",
    "\n",
    "    loss.backward()\n",
    "    \n",
    "    optimizer.step()\n",
    "\n",
    "    optimizer.zero_grad()\n",
    "\n",
    "    if (epoch + 1) % 100 == 0:\n",
    "        print(f'Epcoh: {epoch + 1}, loss= {loss.item(): .2f}')\n",
    "\n",
    "with torch.no_grad():\n",
    "    predicted = model(X).detach().numpy() \n"
   ]
  },
  {
   "cell_type": "code",
   "execution_count": null,
   "metadata": {},
   "outputs": [],
   "source": [
    "fig = go.Figure()\n",
    "fig.add_trace(go.Scatter(x= X.reshape(-1,), y= y.reshape(-1,), mode= 'markers'))\n",
    "fig.add_trace(go.Scatter(x= X.reshape(-1,), y= predicted.reshape(-1,), mode= 'lines'))\n",
    "fig.show()"
   ]
  },
  {
   "cell_type": "markdown",
   "metadata": {},
   "source": [
    "# 7. Logistic Regression"
   ]
  },
  {
   "cell_type": "code",
   "execution_count": 225,
   "metadata": {},
   "outputs": [],
   "source": [
    "import numpy as np\n",
    "\n",
    "import torch\n",
    "import torch.nn as nn\n",
    "\n",
    "import sklearn\n",
    "from sklearn import datasets\n",
    "from sklearn.preprocessing import StandardScaler\n",
    "from sklearn.model_selection import train_test_split"
   ]
  },
  {
   "cell_type": "markdown",
   "metadata": {},
   "source": [
    "## Prepare datasets"
   ]
  },
  {
   "cell_type": "code",
   "execution_count": 226,
   "metadata": {},
   "outputs": [],
   "source": [
    "# Load dataset\n",
    "\n",
    "breast_cancer_dataset = datasets.load_breast_cancer()"
   ]
  },
  {
   "cell_type": "code",
   "execution_count": null,
   "metadata": {},
   "outputs": [],
   "source": [
    "# Infor of dataset\n",
    "\n",
    "breast_cancer_dataset"
   ]
  },
  {
   "cell_type": "code",
   "execution_count": 228,
   "metadata": {},
   "outputs": [],
   "source": [
    "X, y = breast_cancer_dataset['data'], breast_cancer_dataset['target']"
   ]
  },
  {
   "cell_type": "code",
   "execution_count": 229,
   "metadata": {},
   "outputs": [],
   "source": [
    "n_samples, n_feature = X.shape"
   ]
  },
  {
   "cell_type": "code",
   "execution_count": 230,
   "metadata": {},
   "outputs": [],
   "source": [
    "# Split dataset\n",
    "\n",
    "X_train, X_test, y_train, y_test = train_test_split(X, y, train_size= 0.8, random_state= 1, \n",
    "                                                     shuffle= True, stratify= y)    "
   ]
  },
  {
   "cell_type": "code",
   "execution_count": 231,
   "metadata": {},
   "outputs": [],
   "source": [
    "# Scale dataset\n",
    "\n",
    "scale = StandardScaler()\n",
    "\n",
    "X_train = scale.fit_transform(X_train)\n",
    "X_test = scale.fit_transform(X_test)"
   ]
  },
  {
   "cell_type": "code",
   "execution_count": 232,
   "metadata": {},
   "outputs": [],
   "source": [
    "# Convert to tensor\n",
    "\n",
    "X_train = torch.from_numpy(X_train.astype(np.float32))\n",
    "X_test = torch.from_numpy(X_test.astype(np.float32))\n",
    "\n",
    "y_train = torch.from_numpy(y_train.astype(np.float32))\n",
    "y_test = torch.from_numpy(y_test.astype(np.float32))"
   ]
  },
  {
   "cell_type": "code",
   "execution_count": 233,
   "metadata": {},
   "outputs": [],
   "source": [
    "y_train.shape # view shape of y_train\n",
    "\n",
    "y_train = y_train.view(-1 , 1)\n",
    "y_test = y_test.view(-1, 1)"
   ]
  },
  {
   "cell_type": "markdown",
   "metadata": {},
   "source": [
    "## Define"
   ]
  },
  {
   "cell_type": "code",
   "execution_count": 234,
   "metadata": {},
   "outputs": [],
   "source": [
    "class LogisticRegression(nn.Module):\n",
    "    def __init__(self, X, y):\n",
    "        super().__init__()\n",
    "        self.n_samples, self.n_features = X.shape\n",
    "        self.input = X\n",
    "        self.output = y\n",
    "        self.logistic_regression = nn.Sequential(\n",
    "            nn.Linear(in_features= self.n_features, out_features= 1), # Dễ sai cái này, 30 input - > 0 or 1 nên out = 1\n",
    "            nn.Sigmoid() \n",
    "        )\n",
    "\n",
    "    def forward(self, x):\n",
    "        return self.logistic_regression(x)"
   ]
  },
  {
   "cell_type": "code",
   "execution_count": 235,
   "metadata": {},
   "outputs": [],
   "source": [
    "model = LogisticRegression(X= X_train, y= y_train)"
   ]
  },
  {
   "cell_type": "code",
   "execution_count": null,
   "metadata": {},
   "outputs": [],
   "source": [
    "X_train.shape"
   ]
  },
  {
   "cell_type": "markdown",
   "metadata": {},
   "source": [
    "## Loss_fn and optimizer"
   ]
  },
  {
   "cell_type": "code",
   "execution_count": 237,
   "metadata": {},
   "outputs": [],
   "source": [
    "loss_fn = nn.BCELoss()\n",
    "optimizer = torch.optim.SGD(params= model.parameters(), lr= 0.1)"
   ]
  },
  {
   "cell_type": "markdown",
   "metadata": {},
   "source": [
    "## Training loop"
   ]
  },
  {
   "cell_type": "code",
   "execution_count": null,
   "metadata": {},
   "outputs": [],
   "source": [
    "epochs = 1000\n",
    "for epoch in range(epochs):\n",
    "    y_pred = model(X_train)\n",
    "\n",
    "    loss = loss_fn(y_pred, y_train)\n",
    "\n",
    "    loss.backward()\n",
    "\n",
    "    optimizer.step()\n",
    "\n",
    "    optimizer.zero_grad()\n",
    "\n",
    "    if (epoch + 1) % 100 == 0:\n",
    "        print(f'epoch: {epoch}, loss: {loss.item()}')\n"
   ]
  },
  {
   "cell_type": "code",
   "execution_count": null,
   "metadata": {},
   "outputs": [],
   "source": [
    "# test\n",
    "with torch.no_grad():\n",
    "    y_pred_test = model(X_test)\n",
    "    y_pred_test_cls = y_pred_test.round()\n",
    "\n",
    "    len_y_test = float(y_test.shape[0])\n",
    "    accuracy = y_pred_test_cls.eq(y_test).sum() / len_y_test\n",
    "    print(f'accuracy= {accuracy:.4f}')"
   ]
  },
  {
   "cell_type": "markdown",
   "metadata": {},
   "source": [
    "# 8. Dataset and DataLoader"
   ]
  },
  {
   "cell_type": "markdown",
   "metadata": {},
   "source": [
    "## Review epoch, batch_size, num_iter\n",
    "\n",
    "epoch: 1 forward and backward pass of all training samples\n",
    "\n",
    "batch_size: number of training sample in 1 forward and backward (small samples)\n",
    "\n",
    "num_iter: num pass, each pass use [batch_size] sample \n",
    "\n",
    "ex: 100 sample, batch_size: 20 -> 100/20=5 iter for 1 epoch"
   ]
  },
  {
   "cell_type": "code",
   "execution_count": 107,
   "metadata": {},
   "outputs": [],
   "source": [
    "import numpy as np\n",
    "import math\n",
    "\n",
    "import torch\n",
    "import torchvision\n",
    "from torch.utils.data import Dataset, DataLoader\n"
   ]
  },
  {
   "cell_type": "markdown",
   "metadata": {},
   "source": [
    "## Prepare dataset"
   ]
  },
  {
   "cell_type": "code",
   "execution_count": 108,
   "metadata": {},
   "outputs": [],
   "source": [
    "# Path dataset\n",
    "\n",
    "path_wine_dataset = r'C:\\\\Users\\\\hongquan\\\\Documents\\\\GitHub\\\\Deep-Learning\\\\wine\\\\wine.csv'"
   ]
  },
  {
   "cell_type": "markdown",
   "metadata": {},
   "source": [
    "### Create new class to store and handle Dataset"
   ]
  },
  {
   "cell_type": "code",
   "execution_count": 123,
   "metadata": {},
   "outputs": [],
   "source": [
    "class WineDataset(Dataset):\n",
    "    def __init__(self, Path_data):\n",
    "        super().__init__()\n",
    "        self.data = np.loadtxt(Path_data, delimiter= ',', dtype= np.float32, skiprows= 1) # skip first row\n",
    "\n",
    "        self.n_sample, self.n_fearture = self.data.shape\n",
    "\n",
    "        self.X = self.data[:, 1:]\n",
    "        self.y = self.data[:, 0]    # Chú ý: thay vì dùng cách này có thể xài cách sau mà không \n",
    "                                    # cần convert lại bằng reshape(-1, 1)\n",
    "        # -> Cách 2 hay:\n",
    "        self.y = self.data[:, [0]]\n",
    "\n",
    "        # cvt to tensor\n",
    "        self.X = torch.from_numpy(self.X)\n",
    "        self.y = torch.from_numpy(self.y)\n",
    "        \n",
    "    # Tạo __getiem__ để được gọi tự động khi sử dụng DataLoader\n",
    "    def __getitem__(self, index):\n",
    "        return self.X[index], self.y[index]\n",
    "    \n",
    "    def __len__(self):\n",
    "        return self.n_sample"
   ]
  },
  {
   "cell_type": "code",
   "execution_count": 124,
   "metadata": {},
   "outputs": [],
   "source": [
    "# Initialize data\n",
    "wine_dataset = WineDataset(path_wine_dataset)"
   ]
  },
  {
   "cell_type": "markdown",
   "metadata": {},
   "source": [
    "### Dataloader "
   ]
  },
  {
   "cell_type": "code",
   "execution_count": 128,
   "metadata": {},
   "outputs": [],
   "source": [
    "dataloader = DataLoader(dataset= wine_dataset, batch_size= 4, shuffle= True)\n",
    "# for i in dataloader:\n",
    "#     if i == 1:\n",
    "#         break\n",
    "#     print(i)"
   ]
  },
  {
   "cell_type": "code",
   "execution_count": null,
   "metadata": {},
   "outputs": [],
   "source": [
    "data_iter = iter(dataloader)\n",
    "data = next(data_iter)\n",
    "data"
   ]
  },
  {
   "cell_type": "code",
   "execution_count": null,
   "metadata": {},
   "outputs": [],
   "source": [
    "features, labels = data\n",
    "features, labels"
   ]
  },
  {
   "cell_type": "code",
   "execution_count": 556,
   "metadata": {},
   "outputs": [],
   "source": [
    "n_sample_iter = dataloader.__len__()\n",
    "n_iter = math.ceil(n_sample_iter/4)"
   ]
  },
  {
   "cell_type": "markdown",
   "metadata": {},
   "source": [
    "## Train loop"
   ]
  },
  {
   "cell_type": "code",
   "execution_count": null,
   "metadata": {},
   "outputs": [],
   "source": [
    "epochs = 1000\n",
    "\n",
    "for epoch in range(epochs):\n",
    "    for i, (feature, label) in enumerate(dataloader):\n",
    "        # forward, backward, update\n",
    "        if (i + 1) % 4 and (epoch + 1 ) % 200 == 0:\n",
    "            print(f'Epoch: {epoch + 1}/{epochs}, step: {i+1}/{n_iter}, ...')\n"
   ]
  },
  {
   "cell_type": "markdown",
   "metadata": {},
   "source": [
    "# 9. Transform "
   ]
  },
  {
   "cell_type": "code",
   "execution_count": 84,
   "metadata": {},
   "outputs": [],
   "source": [
    "# On Images\n",
    "# ---------\n",
    "# CenterCrop, Grayscale, Pad, RandomAffine\n",
    "# RandomCrop, RandomHorizontalFlip, RandomRotation\n",
    "# Resize, Scale\n",
    "\n",
    "# On Tensors\n",
    "# ----------\n",
    "# LinearTransformation, Normalize, RandomErasing\n",
    "\n",
    "# Conversion\n",
    "# ----------\n",
    "# ToPILImage: from tensor or ndrarray\n",
    "# ToTensor : from numpy.ndarray or PILImage\n",
    "\n",
    "# Generic\n",
    "# -------\n",
    "# Use Lambda \n",
    "\n",
    "# Custom\n",
    "# ------\n",
    "# Write own class\n",
    "\n",
    "# Compose multiple Transforms\n",
    "# ---------------------------\n",
    "# composed = transforms.Compose([Rescale(256), RandomCrop(224)])\n"
   ]
  },
  {
   "cell_type": "markdown",
   "metadata": {},
   "source": [
    "## Prepare and define "
   ]
  },
  {
   "cell_type": "code",
   "execution_count": 562,
   "metadata": {},
   "outputs": [],
   "source": [
    "path_wine_dataset = r'C:\\\\Users\\\\hongquan\\\\Documents\\\\GitHub\\\\Deep-Learning\\\\wine\\\\wine.csv'\n",
    "\n",
    "class WineDataset(Dataset):\n",
    "    def __init__(self, transform= None, Path_data= ''):\n",
    "        super().__init__()\n",
    "        self.data = np.loadtxt(Path_data, delimiter= ',', dtype= np.float32, skiprows= 1) # skip first row\n",
    "        self.transform = transform\n",
    "        self.n_sample, self.n_fearture = self.data.shape\n",
    "\n",
    "        self.X = self.data[:, 1:]\n",
    "        self.y = self.data[:, 0]    # Chú ý: thay vì dùng cách này có thể xài cách sau mà không \n",
    "                                    # cần convert lại bằng reshape(-1, 1)\n",
    "        # -> Cách 2 hay:\n",
    "        self.y = self.data[:, [0]]\n",
    "        \n",
    "    # Tạo __getiem__ để được gọi tự động khi sử dụng DataLoader\n",
    "    def __getitem__(self, index):\n",
    "        sample = self.X[index], self.y[index]\n",
    "        if self.transform:\n",
    "            sample = self.transform(sample) \n",
    "        return sample\n",
    "    \n",
    "    def __len__ (self):\n",
    "        return self.n_sample"
   ]
  },
  {
   "cell_type": "markdown",
   "metadata": {},
   "source": [
    "## Class transforms"
   ]
  },
  {
   "cell_type": "code",
   "execution_count": 563,
   "metadata": {},
   "outputs": [],
   "source": [
    "class ToTensor:\n",
    "    def __call__(self, sample):\n",
    "        input, target = sample\n",
    "        return torch.from_numpy(input), torch.from_numpy(target)"
   ]
  },
  {
   "cell_type": "code",
   "execution_count": 564,
   "metadata": {},
   "outputs": [],
   "source": [
    "class MulTransform:\n",
    "    def __init__(self, factor):\n",
    "        self.factor = factor\n",
    "\n",
    "    def __call__(self, sample):\n",
    "        input, target = sample\n",
    "        return input*self.factor, target"
   ]
  },
  {
   "cell_type": "code",
   "execution_count": 565,
   "metadata": {},
   "outputs": [],
   "source": [
    "# Init dataset\n",
    "wine_dataset_not_trans = WineDataset(None, path_wine_dataset)\n",
    "\n",
    "wine_dataset_trans = WineDataset(ToTensor(), path_wine_dataset)"
   ]
  },
  {
   "cell_type": "code",
   "execution_count": null,
   "metadata": {},
   "outputs": [],
   "source": [
    "test_ = wine_dataset_not_trans[1]\n",
    "test_"
   ]
  },
  {
   "cell_type": "code",
   "execution_count": null,
   "metadata": {},
   "outputs": [],
   "source": [
    "test_ = wine_dataset_trans[1]\n",
    "test_[1].dtype"
   ]
  },
  {
   "cell_type": "markdown",
   "metadata": {},
   "source": [
    "## Compose transform"
   ]
  },
  {
   "cell_type": "code",
   "execution_count": 575,
   "metadata": {},
   "outputs": [],
   "source": [
    "composed = torchvision.transforms.Compose(\n",
    "    [ToTensor(),\n",
    "    MulTransform(2)]\n",
    ")"
   ]
  },
  {
   "cell_type": "code",
   "execution_count": 576,
   "metadata": {},
   "outputs": [],
   "source": [
    "dataset_composed = WineDataset(composed, path_wine_dataset)"
   ]
  },
  {
   "cell_type": "code",
   "execution_count": null,
   "metadata": {},
   "outputs": [],
   "source": [
    "test_ = dataset_composed[1]\n",
    "test_"
   ]
  },
  {
   "cell_type": "code",
   "execution_count": null,
   "metadata": {},
   "outputs": [],
   "source": [
    "test_ = wine_dataset_trans[1]\n",
    "test_"
   ]
  },
  {
   "cell_type": "markdown",
   "metadata": {},
   "source": [
    "# 10. Softmax and Cross Entropy "
   ]
  },
  {
   "cell_type": "markdown",
   "metadata": {},
   "source": [
    "## Softmax"
   ]
  },
  {
   "attachments": {
    "image.png": {
     "image/png": "[encoded data removed]"
    }
   },
   "cell_type": "markdown",
   "metadata": {},
   "source": [
    "![image.png](attachment:image.png)"
   ]
  },
  {
   "cell_type": "code",
   "execution_count": null,
   "metadata": {},
   "outputs": [],
   "source": [
    "# numpy \n",
    "def softmax(x):\n",
    "    return np.exp(x) / np.sum(np.exp(x), axis= 0)\n",
    "\n",
    "x = np.array([2.0 , 1.0, 0.1])\n",
    "y_pred = softmax(x)\n",
    "y_pred"
   ]
  },
  {
   "cell_type": "code",
   "execution_count": null,
   "metadata": {},
   "outputs": [],
   "source": [
    "# torch \n",
    "x = torch.tensor([2.0, 1.0, 0.1])\n",
    "y_pred = torch.softmax(x, dim= 0)\n",
    "y_pred"
   ]
  },
  {
   "cell_type": "markdown",
   "metadata": {},
   "source": [
    "## Cross entropy"
   ]
  },
  {
   "attachments": {
    "image.png": {
     "image/png": "[encoded data removed]"
    }
   },
   "cell_type": "markdown",
   "metadata": {},
   "source": [
    "![image.png](attachment:image.png)"
   ]
  },
  {
   "cell_type": "code",
   "execution_count": 97,
   "metadata": {},
   "outputs": [],
   "source": [
    "# numpy \n",
    "\n",
    "def cross_entropy(actual, predicted, n_samples):\n",
    "    return (-1/n_samples) * np.sum(actual * np.log(predicted), axis= 0)\n",
    "\n",
    "# y must be one hot encoded\n",
    "y = np.array([1.0, 0, 0])\n",
    "\n",
    "y_pre_good = np.array([0.7, 0.2, 0.1])\n",
    "y_pre_bad = np.array([0.1, 0.2, 0.7])"
   ]
  },
  {
   "cell_type": "code",
   "execution_count": null,
   "metadata": {},
   "outputs": [],
   "source": [
    "loss_good = cross_entropy(y, y_pre_good, 1)\n",
    "loss_bad = cross_entropy(y, y_pre_bad, 1)\n",
    "print(loss_good)\n",
    "print(loss_bad)"
   ]
  },
  {
   "cell_type": "markdown",
   "metadata": {},
   "source": [
    "https://pytorch.org/docs/stable/generated/torch.nn.CrossEntropyLoss.html\n",
    "\n",
    "The input is expected to contain the unnormalized logits for each class\n",
    "->nn.CrossEntropyLoss = nn.LogSoftmax + nn.NLLLoss \n",
    "\n",
    "y has class label | must not one hot \n",
    "\n",
    "y_pred has raw scores | must not softmax"
   ]
  },
  {
   "cell_type": "code",
   "execution_count": 581,
   "metadata": {},
   "outputs": [],
   "source": [
    "# torch \n",
    "loss = nn.CrossEntropyLoss()\n",
    "\n",
    "y = torch.tensor([0])\n",
    "\n",
    "# [n_samples * n_class] = [1 * 3]\n",
    "y_pre_good = torch.tensor([[2.0, 1.0, 0.1]])\n",
    "y_pre_bad = torch.tensor([[0.1, 1.0, 2.0]])"
   ]
  },
  {
   "cell_type": "code",
   "execution_count": null,
   "metadata": {},
   "outputs": [],
   "source": [
    "# calculate loss\n",
    "\n",
    "loss_good = loss(y_pre_good, y)\n",
    "loss_bad = loss(y_pre_bad, y)\n",
    "print(loss_good.item())\n",
    "print(loss_bad.item())"
   ]
  },
  {
   "cell_type": "code",
   "execution_count": null,
   "metadata": {},
   "outputs": [],
   "source": [
    "# get value and index of y_pred / predict\n",
    "\n",
    "_, prediction_1 = torch.max(y_pre_good, 1)\n",
    "_, prediction_2 = torch.max(y_pre_bad, 1)\n",
    "print(prediction_1)\n",
    "print(prediction_2)"
   ]
  },
  {
   "cell_type": "markdown",
   "metadata": {},
   "source": [
    "# 11. Activation function"
   ]
  },
  {
   "cell_type": "markdown",
   "metadata": {},
   "source": [
    "$$\n",
    "f(x) = \n",
    "\\begin{cases}\n",
    "1, & \\text{if } x \\ge \\text{threshold} \\\\\n",
    "0, & \\text{if } x < \\text{threshold}\n",
    "\\end{cases}\n",
    "$$"
   ]
  },
  {
   "cell_type": "markdown",
   "metadata": {},
   "source": [
    "## Sigmoid function"
   ]
  },
  {
   "cell_type": "markdown",
   "metadata": {},
   "source": [
    "$$\n",
    "\\sigma(x) = \\frac{1}{1 + e^{-x}}\n",
    "$$\n"
   ]
  },
  {
   "cell_type": "markdown",
   "metadata": {},
   "source": [
    "## TanH function"
   ]
  },
  {
   "cell_type": "markdown",
   "metadata": {},
   "source": [
    "$$\n",
    "\\tanh(x) = \\frac{e^x - e^{-x}}{e^x + e^{-x}}\n",
    "$$\n"
   ]
  },
  {
   "cell_type": "markdown",
   "metadata": {},
   "source": [
    "## ReLU function"
   ]
  },
  {
   "cell_type": "markdown",
   "metadata": {},
   "source": [
    "$$\n",
    "\\text{ReLU}(x) = \n",
    "\\begin{cases}\n",
    "x, & \\text{if } x \\ge 0 \\\\\n",
    "0, & \\text{if } x < 0\n",
    "\\end{cases}\n",
    "$$"
   ]
  },
  {
   "cell_type": "markdown",
   "metadata": {},
   "source": [
    "## Leaky ReLU function"
   ]
  },
  {
   "cell_type": "markdown",
   "metadata": {},
   "source": [
    "$$\n",
    "\\text{Leaky ReLU}(x) = \n",
    "\\begin{cases}\n",
    "x, & \\text{if } x \\ge 0 \\\\\n",
    "\\alpha x, & \\text{if } x < 0\n",
    "\\end{cases}\n",
    "$$\n",
    "\n"
   ]
  },
  {
   "cell_type": "markdown",
   "metadata": {},
   "source": [
    "## Softmax"
   ]
  },
  {
   "cell_type": "markdown",
   "metadata": {},
   "source": [
    "$$\n",
    "\\text{softmax}(x_i) = \\frac{e^{x_i}}{\\sum_{j=1}^{N} e^{x_j}}\n",
    "$$\n"
   ]
  },
  {
   "cell_type": "markdown",
   "metadata": {},
   "source": [
    "## Ứng dụng "
   ]
  },
  {
   "cell_type": "markdown",
   "metadata": {},
   "source": [
    "nn.Sigmoid = torch.sigmoid\n",
    "$$ \\\\ $$\n",
    "nn.Softmax = torch.softmax\n",
    "$$ \\\\ $$\n",
    "nn.Tanh = torch.tanh"
   ]
  },
  {
   "cell_type": "markdown",
   "metadata": {},
   "source": [
    "# 12. Feed-forward Neural Network"
   ]
  },
  {
   "cell_type": "code",
   "execution_count": null,
   "metadata": {},
   "outputs": [],
   "source": [
    "import numpy as np\n",
    "\n",
    "import torch\n",
    "import torch.nn as nn\n",
    "import torch.nn.functional as functionnal\n",
    "from torch.utils.data import Dataset, DataLoader\n",
    "\n",
    "import torchvision\n",
    "import torchvision.transforms as transforms\n",
    "\n",
    "import plotly.graph_objects as go"
   ]
  },
  {
   "cell_type": "code",
   "execution_count": 102,
   "metadata": {},
   "outputs": [],
   "source": [
    "# choose device \n",
    "device = torch.device('cuda' if torch.cuda.is_available() else 'cpu')"
   ]
  },
  {
   "cell_type": "code",
   "execution_count": 103,
   "metadata": {},
   "outputs": [],
   "source": [
    "# config hyper param\n",
    "input_size = 28*28 \n",
    "hidden_size = 100\n",
    "num_classes = 10 \n",
    "epochs = 200\n",
    "batch_size = 100\n",
    "learning_rate = 0.001"
   ]
  },
  {
   "cell_type": "code",
   "execution_count": 104,
   "metadata": {},
   "outputs": [],
   "source": [
    "# give path of mnist\n",
    "path_mnist_test = r'C:\\\\Users\\hongquan\\\\Documents\\\\GitHub\\\\Deep-Learning\\\\mnist\\\\mnist_test.csv'\n",
    "path_mnist_train = r'C:\\\\Users\\hongquan\\\\Documents\\\\GitHub\\\\Deep-Learning\\\\mnist\\\\mnist_train.csv'"
   ]
  },
  {
   "cell_type": "code",
   "execution_count": 105,
   "metadata": {},
   "outputs": [],
   "source": [
    "# load dataset\n",
    "class Dataset:\n",
    "    def __init__(self, transform= None, path= ''):\n",
    "        self.path = path\n",
    "        self.transform = transform\n",
    "\n",
    "        self.dataset = np.loadtxt(path, delimiter= ',', skiprows= 0)\n",
    "\n",
    "        self.input = self.dataset[:, 1:]\n",
    "        self.target = self.dataset[:, [0]]\n",
    "    \n",
    "    def __getitem__(self, index):\n",
    "        self.sample = self.input[index], self.target[index]\n",
    "\n",
    "        if self.transform:\n",
    "            self.sample = self.transform(self.sample)\n",
    "\n",
    "        return self.sample\n",
    "    \n",
    "    def __len__(self):\n",
    "        return len(self.dataset)\n",
    "    \n",
    "class Transfrom:\n",
    "    def __call__(self, sample):\n",
    "        input, target = sample  \n",
    "        return torch.from_numpy(input), torch.from_numpy(target) "
   ]
  },
  {
   "cell_type": "code",
   "execution_count": 106,
   "metadata": {},
   "outputs": [],
   "source": [
    "# mnsit dataset\n",
    "train_mnist = Dataset(path= path_mnist_train, transform= Transfrom()) \n",
    "\n",
    "test_mnist = Dataset(path= path_mnist_test, transform= Transfrom()) "
   ]
  },
  {
   "cell_type": "code",
   "execution_count": 107,
   "metadata": {},
   "outputs": [],
   "source": [
    "# load dataset\n",
    "load_train_mnist = DataLoader(dataset= train_mnist, batch_size= batch_size, shuffle= True)\n",
    "\n",
    "load_test_mnist = DataLoader(dataset= test_mnist, batch_size= batch_size, shuffle= True)"
   ]
  },
  {
   "cell_type": "code",
   "execution_count": 108,
   "metadata": {},
   "outputs": [],
   "source": [
    "# Define class Neural Network\n",
    "\n",
    "class NeuralNetwork(nn.Module):\n",
    "    def __init__(self, input_size, hidden_size, num_classes):\n",
    "        super().__init__()\n",
    "        self.neuron_stack = nn.Sequential(\n",
    "            nn.Linear(input_size, hidden_size),\n",
    "            nn.ReLU(),\n",
    "            nn.Linear(hidden_size, num_classes)\n",
    "        )\n",
    "\n",
    "    def forward(self, x):\n",
    "        return self.neuron_stack(x)"
   ]
  },
  {
   "cell_type": "code",
   "execution_count": 109,
   "metadata": {},
   "outputs": [],
   "source": [
    "# create nn model\n",
    "model = NeuralNetwork(input_size= 28*28, hidden_size= 100, num_classes= 10)"
   ]
  },
  {
   "cell_type": "code",
   "execution_count": 110,
   "metadata": {},
   "outputs": [],
   "source": [
    "# loss and optimizer\n",
    "loss_fn = nn.CrossEntropyLoss()\n",
    "optimizer = torch.optim.Adam(model.parameters(), lr= learning_rate)"
   ]
  },
  {
   "cell_type": "code",
   "execution_count": null,
   "metadata": {},
   "outputs": [],
   "source": [
    "# training loop\n",
    "n_total_step = len(load_train_mnist)\n",
    "for epoch in range(epochs):\n",
    "    for i, (X, y) in enumerate(load_train_mnist):\n",
    "        # move to cuda / cpu\n",
    "        X = X.to(device).float()\n",
    "        y = y.to(device).long().squeeze()\n",
    "\n",
    "        # predict value\n",
    "        y_pred = model(X)\n",
    "\n",
    "        # calculate cost\n",
    "        loss = loss_fn(y_pred, y)\n",
    "\n",
    "        optimizer.zero_grad()\n",
    "\n",
    "        loss.backward()\n",
    "\n",
    "        optimizer.step()\n",
    "    \n",
    "        if (epoch + 1) % 100 == 0 and (i + 1) % 20 == 0:\n",
    "            print(f'Epoch: {epoch + 1}/{epochs}, step: {i+1}/{n_total_step}, loss: {loss.item()}')"
   ]
  },
  {
   "cell_type": "code",
   "execution_count": null,
   "metadata": {},
   "outputs": [],
   "source": [
    "with torch.no_grad():\n",
    "    n_correct = 0\n",
    "    n_samples = 0\n",
    "    i = 0\n",
    "    for images, label in load_test_mnist:\n",
    "        # Move to the appropriate device and convert to float\n",
    "        images = images.to(device).float()\n",
    "        labels = label.to(device).long()  # Convert labels to long for comparison\n",
    "\n",
    "        # Forward pass\n",
    "        output = model(images)\n",
    "        _, prediction = torch.max(output, 1)  # Get the predicted class\n",
    "\n",
    "        # Update the count of correct predictions and total samples\n",
    "        n_samples += labels.shape[0]\n",
    "        n_correct += (prediction == labels.reshape(-1,)).sum().item()\n",
    "\n",
    "        # Print predicted and actual labels for debugging\n",
    "        # print(prediction)\n",
    "        # print(labels)\n",
    "\n",
    "    # Calculate accuracy\n",
    "    accuracy = 100.0 * n_correct / n_samples\n",
    "    print(f'Accuracy: {accuracy:.2f}%')\n",
    "    "
   ]
  },
  {
   "cell_type": "markdown",
   "metadata": {},
   "source": [
    "# 13. Convolutional Neural Networks"
   ]
  },
  {
   "cell_type": "code",
   "execution_count": 1,
   "metadata": {},
   "outputs": [],
   "source": [
    "import numpy as np\n",
    "\n",
    "import torch\n",
    "import torch.nn as nn\n",
    "import torch.nn.functional as functionnal\n",
    "from torch.utils.data import Dataset, DataLoader\n",
    "\n",
    "import torchvision\n",
    "import torchvision.transforms as transforms\n",
    "\n",
    "import plotly.graph_objects as go"
   ]
  },
  {
   "cell_type": "code",
   "execution_count": 2,
   "metadata": {},
   "outputs": [],
   "source": [
    "# set device\n",
    "device = torch.device('cuda' if torch.cuda.is_available() else 'cpu')"
   ]
  },
  {
   "cell_type": "code",
   "execution_count": 3,
   "metadata": {},
   "outputs": [],
   "source": [
    "# number hyper parameter \n",
    "epochs = 1000\n",
    "batch_size = 100\n",
    "learning_rate = 0.001"
   ]
  },
  {
   "cell_type": "code",
   "execution_count": 4,
   "metadata": {},
   "outputs": [],
   "source": [
    "# transform config\n",
    "transforms = transforms.Compose([\n",
    "    transforms.ToTensor(),\n",
    "    transforms.Normalize(mean= [0.5, 0.5, 0.5], std= [0.5, 0.5, 0.5])\n",
    "])"
   ]
  },
  {
   "cell_type": "code",
   "execution_count": 5,
   "metadata": {},
   "outputs": [],
   "source": [
    "# Dataset CIFAR-10 \n",
    "train_dataset = torchvision.datasets.CIFAR10(root= r'C:\\Users\\hongquan\\Documents\\GitHub\\Deep-Learning\\cifar-10', train= True,\n",
    "                                             transform= transforms, download= False)\n",
    "\n",
    "test_dataset = torchvision.datasets.CIFAR10(root= r'C:\\Users\\hongquan\\Documents\\GitHub\\Deep-Learning\\cifar-10', train= False,\n",
    "                                                transform= transforms, download= False)"
   ]
  },
  {
   "cell_type": "code",
   "execution_count": 6,
   "metadata": {},
   "outputs": [],
   "source": [
    "train_loader = DataLoader(dataset= train_dataset, batch_size= batch_size, shuffle= True)\n",
    "test_loader = DataLoader(dataset= test_dataset, batch_size= batch_size, shuffle= True)"
   ]
  },
  {
   "cell_type": "code",
   "execution_count": 7,
   "metadata": {},
   "outputs": [],
   "source": [
    "# define classes\n",
    "classes = ['airplane', 'automobile', 'bird', 'cat', 'deer', 'dog', 'frog', 'horse', 'ship', 'truck']"
   ]
  },
  {
   "cell_type": "code",
   "execution_count": 13,
   "metadata": {},
   "outputs": [],
   "source": [
    "# define conv\n",
    "class ConvNet(nn.Module):\n",
    "    def __init__(self):\n",
    "        super().__init__()\n",
    "        self.conv = nn.Sequential(\n",
    "            nn.Conv2d(in_channels= 3, out_channels= 6, kernel_size= 5),\n",
    "            nn.ReLU(),\n",
    "            nn.MaxPool2d(kernel_size= 2, stride= 2), \n",
    "\n",
    "            nn.Conv2d(in_channels= 6, out_channels= 16, kernel_size= 5),\n",
    "            nn.ReLU(),\n",
    "            nn.MaxPool2d(kernel_size= 2, stride= 2),\n",
    "            \n",
    "            nn.Flatten(),\n",
    "\n",
    "            nn.Linear(in_features= 16*5*5, out_features= 120),\n",
    "            nn.ReLU(),\n",
    "\n",
    "            nn.Linear(in_features= 120, out_features= 84),\n",
    "            nn.ReLU(), \n",
    "\n",
    "            nn.Linear(in_features= 84, out_features= 10),\n",
    "            nn.ReLU()\n",
    "        )\n",
    "\n",
    "    def forward(self, x):\n",
    "        return self.conv(x)\n",
    "    \n",
    "\n",
    "model = ConvNet().to(device)"
   ]
  },
  {
   "cell_type": "code",
   "execution_count": 14,
   "metadata": {},
   "outputs": [],
   "source": [
    "# loss_fn and optimizer\n",
    "criterion = nn.CrossEntropyLoss()\n",
    "optimizer = torch.optim.Adam(params= model.parameters(), lr= learning_rate)"
   ]
  },
  {
   "cell_type": "code",
   "execution_count": null,
   "metadata": {},
   "outputs": [],
   "source": [
    "# train loop\n",
    "\n",
    "for epoch in range(epochs):\n",
    "    for i, (inputs, targets) in enumerate(train_loader):\n",
    "        inputs = inputs.to(device)\n",
    "        targets = targets.to(device)\n",
    "\n",
    "        y_pred = model(inputs)\n",
    "\n",
    "        loss = criterion(y_pred, targets)\n",
    "\n",
    "        optimizer.zero_grad()\n",
    "\n",
    "        loss.backward()\n",
    "\n",
    "        optimizer.step()\n",
    "\n",
    "        if (epoch + 1) % 100 == 0 and (i + 1) % 20 == 0:\n",
    "            print(f'Epoch: {epoch + 1}/{epochs}, step: {i + 1}/{len(train_loader)}, loss: {loss.item()}')\n",
    "\n",
    "print('Finish')\n"
   ]
  },
  {
   "cell_type": "code",
   "execution_count": null,
   "metadata": {},
   "outputs": [],
   "source": [
    "with torch.no_grad():\n",
    "    n_samples = 0\n",
    "    n_correct = 0\n",
    "    n_class_correct = [0 for i in range(10)]\n",
    "    n_class_samples = [0 for i in range(10)]\n",
    "    for (images, labels) in test_loader:\n",
    "        images = images.to(device)\n",
    "        labels = labels.to(device)\n",
    "\n",
    "        output = model(images)\n",
    "\n",
    "        # get predict\n",
    "        _, prediction = torch.max(output, 1) \n",
    "\n",
    "        n_samples += labels[i]\n",
    "        n_correct += (prediction == labels).sum().item()\n",
    "\n",
    "        for i in range(batch_size):\n",
    "            label = labels[i]\n",
    "            pred = prediction[i]\n",
    "            if (label == pred):\n",
    "                n_class_correct[label] += 1\n",
    "            n_class_samples[labels] += 1\n",
    "\n",
    "    accuracy = n_correct / n_samples \n",
    "    print(accuracy)\n",
    "\n",
    "    for i in range(10):\n",
    "        accuracy = n_class_correct[i] / n_class_samples[i]\n",
    "        print(f'Accuracy of {classes[i]} is {accuracy}') "
   ]
  },
  {
   "cell_type": "markdown",
   "metadata": {},
   "source": [
    "# 14. Transfer learning"
   ]
  },
  {
   "cell_type": "code",
   "execution_count": 1,
   "metadata": {},
   "outputs": [],
   "source": [
    "import torch\n",
    "import torch.nn as nn \n",
    "\n",
    "import torch.optim as optim\n",
    "from torch.optim import lr_scheduler \n",
    "\n",
    "import torchvision\n",
    "from torchvision import datasets, models, transforms\n",
    "from torch.utils.data import Dataset, DataLoader\n",
    "\n",
    "import os\n",
    "import time \n",
    "import copy\n",
    "\n",
    "import numpy as np\n",
    "import plotly.graph_objects as go\n",
    "import matplotlib.pyplot as plt"
   ]
  },
  {
   "cell_type": "code",
   "execution_count": null,
   "metadata": {},
   "outputs": [],
   "source": [
    "# set mean and std \n",
    "mean = [0.5, 0.5, 0.5]\n",
    "std = [0.25, 0.25, 0.25]\n",
    "\n",
    "# set device\n",
    "device = torch.device('cuda' if torch.cuda.is_available() else 'cpu')\n",
    "device"
   ]
  },
  {
   "cell_type": "code",
   "execution_count": 62,
   "metadata": {},
   "outputs": [],
   "source": [
    "# transform\n",
    "data_transform = {\n",
    "    'train': transforms.Compose([\n",
    "        transforms.RandomResizedCrop(224),\n",
    "        transforms.RandomHorizontalFlip(),\n",
    "        transforms.ToTensor(),\n",
    "        transforms.Normalize(mean= mean, std= std)\n",
    "    ]),\n",
    "    'val': transforms.Compose([\n",
    "        transforms.Resize(256),\n",
    "        transforms.CenterCrop(224),\n",
    "        transforms.ToTensor(),\n",
    "        transforms.Normalize(mean= mean, std= std)\n",
    "    ])\n",
    "}"
   ]
  },
  {
   "cell_type": "code",
   "execution_count": 63,
   "metadata": {},
   "outputs": [],
   "source": [
    "data_dir = r'C:\\Users\\hongquan\\Documents\\GitHub\\Deep-Learning\\hymenoptera_data'\n",
    "\n",
    "# load data set\n",
    "image_dataset = {x: datasets.ImageFolder(root= os.path.join(data_dir, x), \n",
    "                                         transform= data_transform[x])\n",
    "                 for x in ['train', 'val']}"
   ]
  },
  {
   "cell_type": "code",
   "execution_count": null,
   "metadata": {},
   "outputs": [],
   "source": [
    "image_dataset"
   ]
  },
  {
   "cell_type": "code",
   "execution_count": 65,
   "metadata": {},
   "outputs": [],
   "source": [
    "# dataloader\n",
    "dataloaders = {x: DataLoader(dataset= image_dataset[x], batch_size= 4, shuffle= True) \n",
    "               for x in ['train', 'val']}"
   ]
  },
  {
   "cell_type": "code",
   "execution_count": null,
   "metadata": {},
   "outputs": [],
   "source": [
    "dataloaders"
   ]
  },
  {
   "cell_type": "code",
   "execution_count": 67,
   "metadata": {},
   "outputs": [],
   "source": [
    "# define size\n",
    "dataset_sizes = {x: len(image_dataset[x]) for x in ['train', 'val']}"
   ]
  },
  {
   "cell_type": "code",
   "execution_count": null,
   "metadata": {},
   "outputs": [],
   "source": [
    "# name of class\n",
    "class_names = image_dataset['train'].classes\n",
    "class_names"
   ]
  },
  {
   "cell_type": "code",
   "execution_count": 69,
   "metadata": {},
   "outputs": [],
   "source": [
    "# show image \n",
    "def imshow(inp, title):\n",
    "    ''' Imshow for tensors '''\n",
    "    inp = inp.numpy().transpose((1, 2, 0))\n",
    "    inp = std*inp + mean\n",
    "    inp = np.clip(inp, 0, 1)\n",
    "    plt.imshow(inp)\n",
    "    plt.title(title)\n",
    "    plt.show()\n",
    "    "
   ]
  },
  {
   "cell_type": "code",
   "execution_count": null,
   "metadata": {},
   "outputs": [],
   "source": [
    "# get batch of training data\n",
    "# next get [batch_size] image \n",
    "image, label = next(iter(dataloaders['train']))\n",
    "print(image.shape)\n",
    "print(label.shape)\n",
    "\n",
    "# make a grid\n",
    "out = torchvision.utils.make_grid(image)\n",
    "\n",
    "# show image\n",
    "imshow(inp= out, title= [class_names[x] for x in label])"
   ]
  },
  {
   "cell_type": "code",
   "execution_count": 91,
   "metadata": {},
   "outputs": [],
   "source": [
    "def train_model(model, criterion, optimizer, scheduler, num_epochs):\n",
    "    since = time.time()\n",
    "\n",
    "    best_model_wts = copy.deepcopy(model.state_dict())\n",
    "    best_accuracy = 0.0 \n",
    "\n",
    "    # Each epcoh has training and validation phase\n",
    "    for epoch in range(epochs):\n",
    "        print(f'Epoch: {epoch + 1}/{epochs}')\n",
    "        print('-' * 10)\n",
    "\n",
    "        for phase in ['train', 'val']:\n",
    "            if phase == 'train':\n",
    "                model.train()   # Set model to training mode\n",
    "            if phase == 'eval':\n",
    "                model.eval()    # Set model to evaluate mode\n",
    "\n",
    "            running_loss = 0.0\n",
    "            running_corrects = 0.0 \n",
    "\n",
    "            for inputs, labels in dataloaders[phase]:\n",
    "                inputs = inputs.to(device)\n",
    "                labels = labels.to(device)\n",
    "\n",
    "                # forward \n",
    "                # track history in training loop\n",
    "                with torch.set_grad_enabled(phase == 'train'):\n",
    "                    outputs = model(inputs)\n",
    "                    _, preds = torch.max(outputs, 1)\n",
    "\n",
    "                    loss = criterion(preds, label)\n",
    "\n",
    "                    # backward + optimize if in training phasw\n",
    "                    if phase == 'train':\n",
    "                        optimizer.zero_grad()\n",
    "                        loss.backward()\n",
    "                        optimizer.step()\n",
    "                \n",
    "                # statistic \n",
    "                running_loss += loss.item() * inputs.size(0)\n",
    "                running_correct += (preds == labels.data).sum()\n",
    "\n",
    "            if phase == 'train':\n",
    "                scheduler.step()\n",
    "\n",
    "            epoch_loss = running_loss / dataset_sizes[phase]\n",
    "            epoch_acc = running_corrects.double() / dataset_sizes[phase]\n",
    "\n",
    "            print(f'{phase}, Loss: {epoch_loss:.4f}, Acc: {epoch_acc:.4f}')\n",
    "\n",
    "            # deep_copy the model \n",
    "            if phase == 'val' and epoch_acc > best_accuracy:\n",
    "                best_accuracy = epoch_acc\n",
    "                best_model_wts = copy.deepcopy(model.state_dict())\n",
    "\n",
    "        print()\n",
    "\n",
    "    time_elapsed = time.time() - since\n",
    "    print(f'Training complete in {time_elapsed // 60 :.0f}m {time_elapsed % 60:.0f}s')\n",
    "    print('Best val Acc: {:4f}'.format(best_accuracy))\n",
    "\n",
    "    # load best model weights\n",
    "    model.load_state_dict(best_model_wts)\n",
    "    return model"
   ]
  },
  {
   "cell_type": "markdown",
   "metadata": {},
   "source": [
    "## Fine tuning"
   ]
  },
  {
   "cell_type": "code",
   "execution_count": null,
   "metadata": {},
   "outputs": [],
   "source": [
    "# number input fc\n",
    "# Load a pretrained model and reset final fully connected layer.\n",
    "model = models.resnet18(pretrained= True)\n",
    "num_features = model.fc.in_features"
   ]
  },
  {
   "cell_type": "code",
   "execution_count": null,
   "metadata": {},
   "outputs": [],
   "source": [
    "model.fc = nn.Linear(num_features, 2)\n",
    "model.to(device)"
   ]
  },
  {
   "cell_type": "code",
   "execution_count": null,
   "metadata": {},
   "outputs": [],
   "source": [
    "# loss and optimizer\n",
    "critetion = nn.CrossEntropyLoss()\n",
    "optimizer = optim.adam(model.parameters(), lr= 0.01)"
   ]
  },
  {
   "cell_type": "code",
   "execution_count": null,
   "metadata": {},
   "outputs": [],
   "source": [
    "# schedule\n",
    "# StepLR Decays the learning rate of each parameter group by gamma every step_size epochs\n",
    "# Decay LR by a factor of 0.1 every 7 epochs\n",
    "step_lr_scheduler = lr_scheduler.StepLR(optimizer, step_size= 7, gamma= 0.1)"
   ]
  },
  {
   "cell_type": "code",
   "execution_count": null,
   "metadata": {},
   "outputs": [],
   "source": [
    "# model \n",
    "model = train_model(model, criterion, optimizer, step_lr_scheduler, 1)"
   ]
  },
  {
   "cell_type": "markdown",
   "metadata": {},
   "source": [
    "## Fixed Feature Extractor"
   ]
  },
  {
   "cell_type": "code",
   "execution_count": null,
   "metadata": {},
   "outputs": [],
   "source": [
    "# freeze all the network except final layer\n",
    "# set require_grad = False to freeze all the params -> gradient not comp\n",
    "\n",
    "model_conv = torchvision.models.resnet18(pretrained= True)\n",
    "for param in model_conv.parameters():\n",
    "    param.requires_grad = False\n",
    "\n",
    "num_features = model.fc.in_features\n",
    "model.fc = nn.Linear(num_features, 2)\n",
    "\n",
    "model.to(device)    \n",
    "critetion = nn.CrossEntropyLoss()\n",
    "optimizer = optim.adam(model.parameters(), lr= 0.01)\n",
    "\n",
    "step_lr_scheduler = lr_scheduler.StepLR(optimizer, step_size= 7, gamma= 0.1)\n",
    "model_conv = train_model(model_conv, criterion, optimizer, step_lr_scheduler, 1)"
   ]
  },
  {
   "cell_type": "markdown",
   "metadata": {},
   "source": [
    "## Compare\n",
    "\n",
    "1. Fine-Tuning (Tinh chỉnh):\n",
    "\n",
    "Fine-tuning là quá trình sử dụng một mô hình đã được huấn luyện trước (thường trên một tập dữ liệu lớn như ImageNet) và huấn luyện lại toàn bộ mô hình (hoặc phần lớn của nó) trên một tập dữ liệu mới nhỏ hơn để giải quyết một nhiệm vụ cụ thể.\n",
    "Toàn bộ trọng số của mạng đều được cập nhật trong quá trình huấn luyện, giúp mô hình thích nghi với tập dữ liệu mới và tinh chỉnh các trọng số để phù hợp hơn với dữ liệu mục tiêu.\n",
    "Fine-tuning phù hợp khi tập dữ liệu mới đủ lớn để tránh hiện tượng overfitting và khi nhiệm vụ mới có sự khác biệt đôi chút so với nhiệm vụ ban đầu mà mô hình đã được huấn luyện.\n",
    "Ví dụ: Fine-tuning một mô hình ResNet đã được huấn luyện trước để phân loại các đối tượng mới trong tập dữ liệu tùy chỉnh.\n",
    "\n",
    "\n",
    "2. Fixed Feature Extractor (Trích xuất đặc trưng cố định):\n",
    "\n",
    "Với cách này, một mô hình đã được huấn luyện trước được sử dụng như một bộ trích xuất đặc trưng, nhưng trọng số của các lớp đều được giữ nguyên (không cập nhật trong quá trình huấn luyện).\n",
    "Chỉ có lớp cuối cùng (thường là các lớp fully connected) được thay thế bằng một lớp mới tương ứng với số lớp mới, và chỉ lớp này được huấn luyện.\n",
    "Cách này hữu ích khi tập dữ liệu mới nhỏ và việc huấn luyện toàn bộ mô hình có thể dẫn đến hiện tượng overfitting. Các lớp đầu tiên của mô hình huấn luyện trước hoạt động như các bộ trích xuất đặc trưng, trong khi lớp cuối cùng thích nghi với tập dữ liệu mới.\n",
    "Ví dụ: Sử dụng mô hình ResNet đã huấn luyện trước để trích xuất đặc trưng từ các hình ảnh, sau đó huấn luyện một lớp fully connected mới để phân loại các loại hoa khác nhau."
   ]
  },
  {
   "cell_type": "markdown",
   "metadata": {},
   "source": [
    "# 15. Tensorboard"
   ]
  },
  {
   "cell_type": "code",
   "execution_count": 584,
   "metadata": {},
   "outputs": [],
   "source": [
    "import numpy as np\n",
    "\n",
    "import torch\n",
    "import torch.nn as nn\n",
    "import torch.nn.functional as functionnal\n",
    "from torch.utils.data import Dataset, DataLoader\n",
    "\n",
    "import torchvision\n",
    "import torchvision.transforms as transforms\n",
    "\n",
    "import plotly.graph_objects as go\n",
    "\n",
    "from torch.utils.tensorboard import SummaryWriter"
   ]
  },
  {
   "cell_type": "code",
   "execution_count": null,
   "metadata": {},
   "outputs": [],
   "source": [
    "# choose device \n",
    "device = torch.device('cuda' if torch.cuda.is_available() else 'cpu')\n",
    "device"
   ]
  },
  {
   "cell_type": "code",
   "execution_count": 586,
   "metadata": {},
   "outputs": [],
   "source": [
    "writer = SummaryWriter()"
   ]
  },
  {
   "cell_type": "code",
   "execution_count": 587,
   "metadata": {},
   "outputs": [],
   "source": [
    "# config hyper param\n",
    "input_size = 28*28 \n",
    "hidden_size = 100\n",
    "num_classes = 10 \n",
    "epochs = 200\n",
    "batch_size = 1000\n",
    "learning_rate = 0.001"
   ]
  },
  {
   "cell_type": "code",
   "execution_count": 588,
   "metadata": {},
   "outputs": [],
   "source": [
    "# give path of mnist\n",
    "path_mnist_test = r'C:\\\\Users\\hongquan\\\\Documents\\\\GitHub\\\\Deep-Learning\\\\mnist\\\\mnist_test.csv'\n",
    "path_mnist_train = r'C:\\\\Users\\hongquan\\\\Documents\\\\GitHub\\\\Deep-Learning\\\\mnist\\\\mnist_train.csv'"
   ]
  },
  {
   "cell_type": "code",
   "execution_count": 589,
   "metadata": {},
   "outputs": [],
   "source": [
    "# load dataset\n",
    "class Dataset:\n",
    "    def __init__(self, transform= None, path= ''):\n",
    "        self.path = path\n",
    "        self.transform = transform\n",
    "\n",
    "        self.dataset = np.loadtxt(path, delimiter= ',', skiprows= 0)\n",
    "\n",
    "        self.input = self.dataset[:, 1:]\n",
    "        self.target = self.dataset[:, [0]]\n",
    "    \n",
    "    def __getitem__(self, index):\n",
    "        self.sample = self.input[index], self.target[index]\n",
    "\n",
    "        if self.transform:\n",
    "            self.sample = self.transform(self.sample)\n",
    "\n",
    "        return self.sample\n",
    "    \n",
    "    def __len__(self):\n",
    "        return len(self.dataset)\n",
    "    \n",
    "class Transfrom:\n",
    "    def __call__(self, sample):\n",
    "        input, target = sample\n",
    "        return torch.from_numpy(input), torch.from_numpy(target) "
   ]
  },
  {
   "cell_type": "code",
   "execution_count": 590,
   "metadata": {},
   "outputs": [],
   "source": [
    "# mnsit dataset\n",
    "train_mnist = Dataset(path= path_mnist_train, transform= Transfrom()) \n",
    "\n",
    "test_mnist = Dataset(path= path_mnist_test, transform= Transfrom()) "
   ]
  },
  {
   "cell_type": "code",
   "execution_count": 591,
   "metadata": {},
   "outputs": [],
   "source": [
    "# load dataset\n",
    "load_train_mnist = DataLoader(dataset= train_mnist, batch_size= batch_size, shuffle= True)\n",
    "\n",
    "load_test_mnist = DataLoader(dataset= test_mnist, batch_size= batch_size, shuffle= True)"
   ]
  },
  {
   "cell_type": "code",
   "execution_count": 598,
   "metadata": {},
   "outputs": [],
   "source": [
    "a = test_ex[0, :].reshape(1, 28, 28)\n",
    "\n",
    "writer.add_image('a', a)"
   ]
  },
  {
   "cell_type": "code",
   "execution_count": 592,
   "metadata": {},
   "outputs": [],
   "source": [
    "# writer image tensorboard\n",
    "test_ex, label_ex = next(iter(load_test_mnist))\n",
    "\n",
    "grid = torchvision.utils.make_grid(test_ex)\n",
    "writer.add_image('img_11', grid)\n",
    "\n",
    "test_ex_1 = test_ex.reshape(-1, 1, 28, 28)\n",
    "grid_1 = torchvision.utils.make_grid(test_ex_1)\n",
    "writer.add_image('img_22', grid_1)"
   ]
  },
  {
   "cell_type": "code",
   "execution_count": 22,
   "metadata": {},
   "outputs": [],
   "source": [
    "# Define class Neural Network\n",
    "\n",
    "class NeuralNetwork(nn.Module):\n",
    "    def __init__(self, input_size, hidden_size, num_classes):\n",
    "        super().__init__()\n",
    "        self.neuron_stack = nn.Sequential(\n",
    "            nn.Linear(input_size, hidden_size),\n",
    "            nn.ReLU(),\n",
    "            nn.Linear(hidden_size, num_classes)\n",
    "        )\n",
    "\n",
    "    def forward(self, x):\n",
    "        return self.neuron_stack(x)"
   ]
  },
  {
   "cell_type": "code",
   "execution_count": 29,
   "metadata": {},
   "outputs": [],
   "source": [
    "# create nn model\n",
    "model = NeuralNetwork(input_size= 28*28, hidden_size= 100, num_classes= 10).to(device)"
   ]
  },
  {
   "cell_type": "code",
   "execution_count": 24,
   "metadata": {},
   "outputs": [],
   "source": [
    "# loss and optimizer\n",
    "loss_fn = nn.CrossEntropyLoss()\n",
    "optimizer = torch.optim.Adam(model.parameters(), lr= learning_rate)"
   ]
  },
  {
   "cell_type": "code",
   "execution_count": 26,
   "metadata": {},
   "outputs": [],
   "source": [
    "# writer graph tensorboard\n",
    "\n",
    "writer.add_graph(model= model, input_to_model= test_ex.float())"
   ]
  },
  {
   "cell_type": "code",
   "execution_count": null,
   "metadata": {},
   "outputs": [],
   "source": [
    "# training loop\n",
    "n_total_step = len(load_train_mnist)\n",
    "running_loss = 0.0\n",
    "running_correct = 0.0\n",
    "for epoch in range(epochs):\n",
    "    for i, (X, y) in enumerate(load_train_mnist):\n",
    "        # move to cuda / cpu\n",
    "        X = X.to(device).float()\n",
    "        y = y.to(device).long().squeeze()\n",
    "\n",
    "        # predict value\n",
    "        y_pred = model(X)\n",
    "\n",
    "        # calculate cost\n",
    "        loss = loss_fn(y_pred, y)\n",
    "\n",
    "        optimizer.zero_grad()\n",
    "\n",
    "        loss.backward()\n",
    "\n",
    "        optimizer.step()\n",
    "\n",
    "        running_loss += loss.item()\n",
    "        _, prediction = torch.max(y_pred, 1)  # Get the predicted class\n",
    "        running_correct += (prediction == y).sum().item()\n",
    "\n",
    "        if (epoch + 1) % 100 == 0 and (i + 1) % 20 == 0:\n",
    "            print(f'Epoch: {epoch + 1}/{epochs}, step: {i+1}/{n_total_step}, loss: {loss.item()}')\n",
    "            writer.add_scalar('training loss', running_loss / 100, epoch * n_total_step + i)\n",
    "            writer.add_scalar('training accuracy', running_correct / 100, epoch * n_total_step + i)\n",
    "\n",
    "            running_loss = 0.0\n",
    "            running_correct = 0.0"
   ]
  },
  {
   "cell_type": "code",
   "execution_count": null,
   "metadata": {},
   "outputs": [],
   "source": [
    "labels = []\n",
    "preds = []\n",
    "\n",
    "\n",
    "\n",
    "with torch.no_grad():\n",
    "    n_correct = 0\n",
    "    n_samples = 0\n",
    "    i = 0\n",
    "    for images, label in load_test_mnist:\n",
    "        # Move to the appropriate device and convert to float\n",
    "        images = images.to(device).float()\n",
    "        labels = label.to(device).long()  # Convert labels to long for comparison\n",
    "\n",
    "        # Forward pass\n",
    "        output = model(images)\n",
    "        _, prediction = torch.max(output, 1)  # Get the predicted class\n",
    "\n",
    "        # Update the count of correct predictions and total samples\n",
    "        n_samples += labels.shape[0]\n",
    "        n_correct += (prediction == labels.reshape(-1,)).sum().item()\n",
    "\n",
    "        # Print predicted and actual labels for debugging\n",
    "        # print(prediction)\n",
    "        # print(labels)\n",
    "\n",
    "        class_pr = [torch.nn.functional.softmax(out, dim= 0) for out in output]\n",
    "        labels.append(prediction)\n",
    "        pred.append(class_pr)\n",
    "\n",
    "    preds = torch.cat([torch.stack(batch) for batch in preds])\n",
    "    labels = torch.cat(labels)\n",
    "\n",
    "    # Calculate accuracy\n",
    "    accuracy = 100.0 * n_correct / n_samples\n",
    "    print(f'Accuracy: {accuracy:.2f}%')\n",
    "    "
   ]
  },
  {
   "cell_type": "code",
   "execution_count": null,
   "metadata": {},
   "outputs": [],
   "source": [
    "classes = range(10)\n",
    "for i in classes:\n",
    "    labels_i = labels == i\n",
    "    preds_i = preds[:, i]\n",
    "    writer.add_pr_curve(str(i), labels_i, preds_i, global_step= 0)"
   ]
  },
  {
   "cell_type": "markdown",
   "metadata": {},
   "source": [
    "# 16. Saving and load model"
   ]
  },
  {
   "cell_type": "code",
   "execution_count": 1,
   "metadata": {},
   "outputs": [],
   "source": [
    "import numpy as np\n",
    "import scipy.io\n",
    "import torch\n",
    "import torch.nn as nn\n",
    "from torch.utils.data import Dataset, DataLoader\n",
    "import torchvision\n",
    "from sklearn.model_selection import train_test_split\n",
    "import torch.optim.lr_scheduler as lr_scheduler\n",
    "import matplotlib.pyplot as plt\n",
    "from torch.utils.tensorboard import SummaryWriter"
   ]
  },
  {
   "cell_type": "code",
   "execution_count": 2,
   "metadata": {},
   "outputs": [],
   "source": [
    "device = torch.device('cuda' if torch.cuda.is_available() else 'cpu')\n",
    "writer = SummaryWriter()"
   ]
  },
  {
   "cell_type": "code",
   "execution_count": 3,
   "metadata": {},
   "outputs": [],
   "source": [
    "# SplitDataset class to load and split the data\n",
    "class SplitDataset:\n",
    "    def __init__(self, path='', train_test_split_size=[]):\n",
    "        self.data = scipy.io.loadmat(path)\n",
    "        self.inputs = self.data['X']\n",
    "        self.targets = np.ravel(self.data['y'])\n",
    "        self.train_test_split_size = train_test_split_size\n",
    "\n",
    "        # Modify label 1-10 into 0-9\n",
    "        self.targets[self.targets == 10] = 0\n",
    "\n",
    "    def __call__(self):\n",
    "        if self.train_test_split_size:\n",
    "            train_size, test_size, valid_size = self.train_test_split_size\n",
    "            self.X_new, self.X_test, self.y_new, self.y_test = train_test_split(\n",
    "                self.inputs, self.targets, train_size=train_size, test_size=test_size)\n",
    "            self.X_train, self.X_valid, self.y_train, self.y_valid = train_test_split(\n",
    "                self.X_new, self.y_new, test_size=valid_size / (train_size + valid_size))\n",
    "\n",
    "        self.train = [self.X_train, self.y_train]\n",
    "        self.test = [self.X_test, self.y_test]\n",
    "        self.valid = [self.X_valid, self.y_valid]\n",
    "        \n",
    "        return self.train, self.test, self.valid"
   ]
  },
  {
   "cell_type": "code",
   "execution_count": 4,
   "metadata": {},
   "outputs": [],
   "source": [
    "# Custom Dataset class\n",
    "class GetDataset(Dataset):\n",
    "    def __init__(self, transforms=None, dataset=None):\n",
    "        super().__init__()\n",
    "        self.transform = transforms\n",
    "        self.inputs, self.targets = dataset\n",
    "\n",
    "    def __getitem__(self, index):\n",
    "        sample = self.inputs[index], self.targets[index]\n",
    "\n",
    "        if self.transform:\n",
    "            sample = self.transform(sample)\n",
    "\n",
    "        return sample\n",
    "        \n",
    "    def __len__(self):\n",
    "        return len(self.inputs)"
   ]
  },
  {
   "cell_type": "code",
   "execution_count": 5,
   "metadata": {},
   "outputs": [],
   "source": [
    "# Transformation class to convert data to tensors\n",
    "class Transform:\n",
    "    def __call__(self, sample):\n",
    "        inputs, targets = sample\n",
    "        inputs = inputs.astype(np.float32).reshape(1, 20, 20)  # Reshape to (1, 20, 20)\n",
    "        targets = torch.tensor(targets, dtype=torch.long)\n",
    "        return torch.from_numpy(inputs), targets"
   ]
  },
  {
   "cell_type": "code",
   "execution_count": 6,
   "metadata": {},
   "outputs": [],
   "source": [
    "# Load and split the dataset\n",
    "train_array, test_array, valid_array = SplitDataset( path=r'C:\\Users\\hongquan\\Documents\\GitHub\\Deep-Learning\\data\\ex7data.mat', train_test_split_size=[0.7, 0.2, 0.1]).__call__()\n",
    "train_tensor = GetDataset(transforms=Transform(), dataset=train_array)\n",
    "test_tensor = GetDataset(transforms=Transform(), dataset=test_array)\n",
    "valid_tensor = GetDataset(transforms=Transform(), dataset=valid_array)"
   ]
  },
  {
   "cell_type": "code",
   "execution_count": 7,
   "metadata": {},
   "outputs": [],
   "source": [
    "# DataLoaders\n",
    "batch_size = 200\n",
    "train_loader = DataLoader(dataset=train_tensor, batch_size=batch_size, shuffle=True)\n",
    "test_loader = DataLoader(dataset=test_tensor, batch_size=batch_size, shuffle=False)\n",
    "valid_loader = DataLoader(dataset=valid_tensor, batch_size=batch_size, shuffle=False)"
   ]
  },
  {
   "cell_type": "code",
   "execution_count": 8,
   "metadata": {},
   "outputs": [],
   "source": [
    "# Updated ConvNet architecture\n",
    "class ConvNet(nn.Module):\n",
    "    def __init__(self):\n",
    "        super().__init__()\n",
    "        self.conv = nn.Sequential(\n",
    "            nn.Conv2d(in_channels=1, out_channels=32, kernel_size=3),  # Output: [32, 18, 18]\n",
    "            nn.ReLU(),\n",
    "            nn.MaxPool2d(kernel_size=2, stride=2),                    # Output: [32, 9, 9]\n",
    "\n",
    "            nn.Conv2d(in_channels=32, out_channels=64, kernel_size=3), # Output: [64, 7, 7]\n",
    "            nn.ReLU(),\n",
    "            nn.MaxPool2d(kernel_size=2, stride=2),                    # Output: [64, 3, 3]\n",
    "\n",
    "            nn.Conv2d(in_channels=64, out_channels=128, kernel_size=3),# Output: [128, 1, 1]\n",
    "            nn.ReLU()\n",
    "        )\n",
    "\n",
    "        self.fc = nn.Sequential(\n",
    "            nn.Flatten(),\n",
    "            nn.Linear(128, 64),\n",
    "            nn.Linear(64, 32),\n",
    "            nn.Linear(32, 10)  # Output logits for 10 classes\n",
    "        )\n",
    "\n",
    "    def forward(self, x):\n",
    "        x = self.conv(x)\n",
    "        x = self.fc(x)\n",
    "        return x\n"
   ]
  },
  {
   "cell_type": "code",
   "execution_count": 9,
   "metadata": {},
   "outputs": [],
   "source": [
    "# Initialize the model\n",
    "model = ConvNet().to(device)\n",
    "criterion = nn.CrossEntropyLoss()\n",
    "# optimizer = torch.optim.Adam(model.parameters(), lr=0.001)\n",
    "optimizer = torch.optim.Adagrad(params= model.parameters(), lr= 0.01)\n",
    "scheduler = lr_scheduler.StepLR(optimizer= optimizer, step_size= 350, gamma= 0.1)\n",
    "# Training Loop\n",
    "num_epochs = 20\n",
    "loss_ = []\n",
    "for epoch in range(num_epochs):\n",
    "    model.train()\n",
    "    running_loss = 0.0\n",
    "    for inputs, targets in train_loader:\n",
    "        inputs, targets = inputs.to(device), targets.to(device)\n",
    "\n",
    "        # Forward pass\n",
    "        outputs = model(inputs)  # Outputs of shape [batch_size, 10]\n",
    "\n",
    "        # print(targets.shape)\n",
    "        # print(outputs.shape)\n",
    "        # Compute loss\n",
    "        loss = criterion(outputs, targets)\n",
    "\n",
    "        # Backward pass and optimization\n",
    "        optimizer.zero_grad()\n",
    "        loss.backward()\n",
    "        optimizer.step()\n",
    "\n",
    "        running_loss += loss.item()\n",
    "    scheduler.step()\n",
    "    avg_loss = running_loss / len(train_loader)\n",
    "    loss_.append(avg_loss)\n",
    "    if (epoch + 1) % 100 == 0:\n",
    "        print(f\"Epoch [{epoch+1}/{num_epochs}], Loss: {avg_loss:.4f}\") "
   ]
  },
  {
   "cell_type": "code",
   "execution_count": 10,
   "metadata": {},
   "outputs": [
    {
     "data": {
      "image/png": "[encoded data removed]",
      "text/plain": [
       "<Figure size 640x480 with 1 Axes>"
      ]
     },
     "metadata": {},
     "output_type": "display_data"
    }
   ],
   "source": [
    "import matplotlib.pyplot as plt\n",
    "\n",
    "plt.plot(loss_)\n",
    "plt.title('Training Loss Over Time')\n",
    "plt.xlabel('Epoch')\n",
    "plt.ylabel('Loss')\n",
    "plt.grid()\n",
    "plt.show()"
   ]
  },
  {
   "cell_type": "code",
   "execution_count": 11,
   "metadata": {},
   "outputs": [
    {
     "name": "stdout",
     "output_type": "stream",
     "text": [
      "Overall Accuracy: 96.70%\n",
      "Accuracy of class 0: 100.0000%\n",
      "Accuracy of class 1: 98.1982%\n",
      "Accuracy of class 2: 92.1348%\n",
      "Accuracy of class 3: 95.0000%\n",
      "Accuracy of class 4: 98.9362%\n",
      "Accuracy of class 5: 95.0495%\n",
      "Accuracy of class 6: 98.0952%\n",
      "Accuracy of class 7: 95.3271%\n",
      "Accuracy of class 8: 96.8750%\n",
      "Accuracy of class 9: 96.8421%\n"
     ]
    }
   ],
   "source": [
    "\n",
    "# Testing Loop\n",
    "classes = ['0', '1', '2', '3', '4', '5', '6', '7', '8', '9']\n",
    "model.eval()\n",
    "with torch.no_grad():\n",
    "    n_correct = 0\n",
    "    n_samples = 0\n",
    "    n_class_correct = [0 for _ in range(10)]\n",
    "    n_class_samples = [0 for _ in range(10)]\n",
    "    for images, labels in test_loader:\n",
    "        images, labels = images.to(device), labels.to(device)\n",
    "        outputs = model(images)  # Outputs of shape [batch_size, 10]\n",
    "        _, predicted = torch.max(outputs, 1)\n",
    "        n_samples += labels.size(0)\n",
    "        n_correct += (predicted == labels).sum().item()\n",
    "\n",
    "        for i in range(len(labels)):\n",
    "            label = labels[i]\n",
    "            pred = predicted[i]\n",
    "            if label == pred:\n",
    "                n_class_correct[label] += 1\n",
    "            n_class_samples[label] += 1\n",
    "\n",
    "    acc = 100.0 * n_correct / n_samples\n",
    "    print(f'Overall Accuracy: {acc:.2f}%')\n",
    "\n",
    "    for i in range(10):\n",
    "        if n_class_samples[i] > 0:\n",
    "            acc = 100.0 * n_class_correct[i] / n_class_samples[i]\n",
    "            print(f'Accuracy of class {classes[i]}: {acc:.4f}%')\n",
    "        else:\n",
    "            print(f'Accuracy of class {classes[i]}: N/A (no samples)')"
   ]
  },
  {
   "cell_type": "markdown",
   "metadata": {},
   "source": [
    "## Save param"
   ]
  },
  {
   "cell_type": "code",
   "execution_count": null,
   "metadata": {},
   "outputs": [],
   "source": [
    "# model_1 = torch.save(model, r'C:\\Users\\hongquan\\Documents\\GitHub\\Deep-Learning\\data\\model-data_1.pth')\n",
    "model.eval()\n",
    "for param in model.parameters():\n",
    "    print(param)"
   ]
  },
  {
   "cell_type": "markdown",
   "metadata": {},
   "source": [
    "## Save state_dict"
   ]
  },
  {
   "cell_type": "code",
   "execution_count": null,
   "metadata": {},
   "outputs": [],
   "source": [
    "check_points = {\n",
    "    'epoch' : 20,\n",
    "    'model_state' : model.state_dict(),\n",
    "    'optim_state' : optimizer.state_dict() \n",
    "}"
   ]
  },
  {
   "cell_type": "code",
   "execution_count": null,
   "metadata": {},
   "outputs": [],
   "source": [
    "# model_2 = torch.save(model.state_dict(), r'C:\\Users\\hongquan\\Documents\\GitHub\\Deep-Learning\\data\\model-data_2.pth')\n",
    "loaded_model = ConvNet()\n",
    "loaded_model.load_state_dict(torch.load(r'C:\\Users\\hongquan\\Documents\\GitHub\\Deep-Learning\\data\\model-data_2.pth'))\n",
    "loaded_model.eval()\n",
    "\n",
    "for param in model.parameters():\n",
    "    print(param)"
   ]
  },
  {
   "cell_type": "code",
   "execution_count": null,
   "metadata": {},
   "outputs": [],
   "source": [
    "print(optimizer.state_dict())"
   ]
  },
  {
   "cell_type": "code",
   "execution_count": null,
   "metadata": {},
   "outputs": [],
   "source": [
    "model.load_state_dict(check_points['model_state'])\n",
    "optimizer.load_state_dict(check_points['optim_state'])"
   ]
  },
  {
   "cell_type": "code",
   "execution_count": 22,
   "metadata": {},
   "outputs": [],
   "source": [
    "## Save on gpu"
   ]
  },
  {
   "cell_type": "code",
   "execution_count": 24,
   "metadata": {},
   "outputs": [],
   "source": [
    "# save on gpu\n",
    "device = torch.device('cuda')\n",
    "model.to(device)\n",
    "torch.save(model.state_dict(), r'C:\\Users\\hongquan\\Documents\\GitHub\\Deep-Learning\\data\\model_3.pth')"
   ]
  },
  {
   "cell_type": "code",
   "execution_count": null,
   "metadata": {},
   "outputs": [],
   "source": [
    "# load in cpu\n",
    "device = torch.device('cpu')\n",
    "model = ConvNet()\n",
    "model.load_state_dict(torch.load(r'C:\\Users\\hongquan\\Documents\\GitHub\\Deep-Learning\\data\\model_3.pth', map_location= device))"
   ]
  },
  {
   "cell_type": "code",
   "execution_count": null,
   "metadata": {},
   "outputs": [],
   "source": [
    "# load in gpu\n",
    "device = torch.device('cuda')\n",
    "model = ConvNet()\n",
    "model.load_state_dict(torch.load(r'C:\\Users\\hongquan\\Documents\\GitHub\\Deep-Learning\\data\\model_3.pth'))\n",
    "model.to(device)"
   ]
  },
  {
   "cell_type": "code",
   "execution_count": null,
   "metadata": {},
   "outputs": [],
   "source": [
    "# save on cpu load in gpu\n",
    "device = torch.device(  'cuda')\n",
    "model = ConvNet()\n",
    "model.load_state_dict(\n",
    "    torch.load(r'C:\\Users\\hongquan\\Documents\\GitHub\\Deep-Learning\\data\\model_3.pth', map_location = 'cuda')\n",
    ")\n",
    "model.to(device)"
   ]
  },
  {
   "cell_type": "code",
   "execution_count": null,
   "metadata": {},
   "outputs": [],
   "source": [
    "a = [1, 2, 3]\n",
    "for i in a:\n",
    "    print(i)"
   ]
  }
 ],
 "metadata": {
  "kernelspec": {
   "display_name": "conda_env",
   "language": "python",
   "name": "python3"
  },
  "language_info": {
   "codemirror_mode": {
    "name": "ipython",
    "version": 3
   },
   "file_extension": ".py",
   "mimetype": "text/x-python",
   "name": "python",
   "nbconvert_exporter": "python",
   "pygments_lexer": "ipython3",
   "version": "3.12.7"
  }
 },
 "nbformat": 4,
 "nbformat_minor": 2
}
